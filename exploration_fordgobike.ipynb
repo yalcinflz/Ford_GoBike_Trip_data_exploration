{
 "cells": [
  {
   "cell_type": "markdown",
   "metadata": {},
   "source": [
    "# FordGoBike Trip Data Exploration\n",
    "## by Yalçın Filiz\n",
    "\n",
    "## Preliminary Wrangling\n",
    "\n",
    "> This data set includes information about individual rides made\n",
    "in a bike-sharing system covering the greater San Francisco\n",
    "Bay area."
   ]
  },
  {
   "cell_type": "code",
   "execution_count": 1,
   "metadata": {},
   "outputs": [],
   "source": [
    "# import all packages and set plots to be embedded inline\n",
    "import numpy as np\n",
    "import pandas as pd\n",
    "import matplotlib.pyplot as plt\n",
    "import seaborn as sb\n",
    "\n",
    "%matplotlib inline"
   ]
  },
  {
   "cell_type": "markdown",
   "metadata": {},
   "source": [
    "### Gather Data "
   ]
  },
  {
   "cell_type": "code",
   "execution_count": 2,
   "metadata": {
    "scrolled": true
   },
   "outputs": [
    {
     "data": {
      "text/html": [
       "<div>\n",
       "<style scoped>\n",
       "    .dataframe tbody tr th:only-of-type {\n",
       "        vertical-align: middle;\n",
       "    }\n",
       "\n",
       "    .dataframe tbody tr th {\n",
       "        vertical-align: top;\n",
       "    }\n",
       "\n",
       "    .dataframe thead th {\n",
       "        text-align: right;\n",
       "    }\n",
       "</style>\n",
       "<table border=\"1\" class=\"dataframe\">\n",
       "  <thead>\n",
       "    <tr style=\"text-align: right;\">\n",
       "      <th></th>\n",
       "      <th>duration_sec</th>\n",
       "      <th>start_time</th>\n",
       "      <th>end_time</th>\n",
       "      <th>start_station_id</th>\n",
       "      <th>start_station_name</th>\n",
       "      <th>start_station_latitude</th>\n",
       "      <th>start_station_longitude</th>\n",
       "      <th>end_station_id</th>\n",
       "      <th>end_station_name</th>\n",
       "      <th>end_station_latitude</th>\n",
       "      <th>end_station_longitude</th>\n",
       "      <th>bike_id</th>\n",
       "      <th>user_type</th>\n",
       "      <th>member_birth_year</th>\n",
       "      <th>member_gender</th>\n",
       "      <th>bike_share_for_all_trip</th>\n",
       "    </tr>\n",
       "  </thead>\n",
       "  <tbody>\n",
       "    <tr>\n",
       "      <th>0</th>\n",
       "      <td>52185</td>\n",
       "      <td>2019-02-28 17:32:10.1450</td>\n",
       "      <td>2019-03-01 08:01:55.9750</td>\n",
       "      <td>21.0</td>\n",
       "      <td>Montgomery St BART Station (Market St at 2nd St)</td>\n",
       "      <td>37.789625</td>\n",
       "      <td>-122.400811</td>\n",
       "      <td>13.0</td>\n",
       "      <td>Commercial St at Montgomery St</td>\n",
       "      <td>37.794231</td>\n",
       "      <td>-122.402923</td>\n",
       "      <td>4902</td>\n",
       "      <td>Customer</td>\n",
       "      <td>1984.0</td>\n",
       "      <td>Male</td>\n",
       "      <td>No</td>\n",
       "    </tr>\n",
       "    <tr>\n",
       "      <th>1</th>\n",
       "      <td>42521</td>\n",
       "      <td>2019-02-28 18:53:21.7890</td>\n",
       "      <td>2019-03-01 06:42:03.0560</td>\n",
       "      <td>23.0</td>\n",
       "      <td>The Embarcadero at Steuart St</td>\n",
       "      <td>37.791464</td>\n",
       "      <td>-122.391034</td>\n",
       "      <td>81.0</td>\n",
       "      <td>Berry St at 4th St</td>\n",
       "      <td>37.775880</td>\n",
       "      <td>-122.393170</td>\n",
       "      <td>2535</td>\n",
       "      <td>Customer</td>\n",
       "      <td>NaN</td>\n",
       "      <td>NaN</td>\n",
       "      <td>No</td>\n",
       "    </tr>\n",
       "    <tr>\n",
       "      <th>2</th>\n",
       "      <td>61854</td>\n",
       "      <td>2019-02-28 12:13:13.2180</td>\n",
       "      <td>2019-03-01 05:24:08.1460</td>\n",
       "      <td>86.0</td>\n",
       "      <td>Market St at Dolores St</td>\n",
       "      <td>37.769305</td>\n",
       "      <td>-122.426826</td>\n",
       "      <td>3.0</td>\n",
       "      <td>Powell St BART Station (Market St at 4th St)</td>\n",
       "      <td>37.786375</td>\n",
       "      <td>-122.404904</td>\n",
       "      <td>5905</td>\n",
       "      <td>Customer</td>\n",
       "      <td>1972.0</td>\n",
       "      <td>Male</td>\n",
       "      <td>No</td>\n",
       "    </tr>\n",
       "    <tr>\n",
       "      <th>3</th>\n",
       "      <td>36490</td>\n",
       "      <td>2019-02-28 17:54:26.0100</td>\n",
       "      <td>2019-03-01 04:02:36.8420</td>\n",
       "      <td>375.0</td>\n",
       "      <td>Grove St at Masonic Ave</td>\n",
       "      <td>37.774836</td>\n",
       "      <td>-122.446546</td>\n",
       "      <td>70.0</td>\n",
       "      <td>Central Ave at Fell St</td>\n",
       "      <td>37.773311</td>\n",
       "      <td>-122.444293</td>\n",
       "      <td>6638</td>\n",
       "      <td>Subscriber</td>\n",
       "      <td>1989.0</td>\n",
       "      <td>Other</td>\n",
       "      <td>No</td>\n",
       "    </tr>\n",
       "    <tr>\n",
       "      <th>4</th>\n",
       "      <td>1585</td>\n",
       "      <td>2019-02-28 23:54:18.5490</td>\n",
       "      <td>2019-03-01 00:20:44.0740</td>\n",
       "      <td>7.0</td>\n",
       "      <td>Frank H Ogawa Plaza</td>\n",
       "      <td>37.804562</td>\n",
       "      <td>-122.271738</td>\n",
       "      <td>222.0</td>\n",
       "      <td>10th Ave at E 15th St</td>\n",
       "      <td>37.792714</td>\n",
       "      <td>-122.248780</td>\n",
       "      <td>4898</td>\n",
       "      <td>Subscriber</td>\n",
       "      <td>1974.0</td>\n",
       "      <td>Male</td>\n",
       "      <td>Yes</td>\n",
       "    </tr>\n",
       "  </tbody>\n",
       "</table>\n",
       "</div>"
      ],
      "text/plain": [
       "   duration_sec                start_time                  end_time  \\\n",
       "0         52185  2019-02-28 17:32:10.1450  2019-03-01 08:01:55.9750   \n",
       "1         42521  2019-02-28 18:53:21.7890  2019-03-01 06:42:03.0560   \n",
       "2         61854  2019-02-28 12:13:13.2180  2019-03-01 05:24:08.1460   \n",
       "3         36490  2019-02-28 17:54:26.0100  2019-03-01 04:02:36.8420   \n",
       "4          1585  2019-02-28 23:54:18.5490  2019-03-01 00:20:44.0740   \n",
       "\n",
       "   start_station_id                                start_station_name  \\\n",
       "0              21.0  Montgomery St BART Station (Market St at 2nd St)   \n",
       "1              23.0                     The Embarcadero at Steuart St   \n",
       "2              86.0                           Market St at Dolores St   \n",
       "3             375.0                           Grove St at Masonic Ave   \n",
       "4               7.0                               Frank H Ogawa Plaza   \n",
       "\n",
       "   start_station_latitude  start_station_longitude  end_station_id  \\\n",
       "0               37.789625              -122.400811            13.0   \n",
       "1               37.791464              -122.391034            81.0   \n",
       "2               37.769305              -122.426826             3.0   \n",
       "3               37.774836              -122.446546            70.0   \n",
       "4               37.804562              -122.271738           222.0   \n",
       "\n",
       "                               end_station_name  end_station_latitude  \\\n",
       "0                Commercial St at Montgomery St             37.794231   \n",
       "1                            Berry St at 4th St             37.775880   \n",
       "2  Powell St BART Station (Market St at 4th St)             37.786375   \n",
       "3                        Central Ave at Fell St             37.773311   \n",
       "4                         10th Ave at E 15th St             37.792714   \n",
       "\n",
       "   end_station_longitude  bike_id   user_type  member_birth_year  \\\n",
       "0            -122.402923     4902    Customer             1984.0   \n",
       "1            -122.393170     2535    Customer                NaN   \n",
       "2            -122.404904     5905    Customer             1972.0   \n",
       "3            -122.444293     6638  Subscriber             1989.0   \n",
       "4            -122.248780     4898  Subscriber             1974.0   \n",
       "\n",
       "  member_gender bike_share_for_all_trip  \n",
       "0          Male                      No  \n",
       "1           NaN                      No  \n",
       "2          Male                      No  \n",
       "3         Other                      No  \n",
       "4          Male                     Yes  "
      ]
     },
     "execution_count": 2,
     "metadata": {},
     "output_type": "execute_result"
    }
   ],
   "source": [
    "df = pd.read_csv('201902-fordgobike-tripdata.csv')\n",
    "df.head()"
   ]
  },
  {
   "cell_type": "code",
   "execution_count": 3,
   "metadata": {
    "scrolled": false
   },
   "outputs": [
    {
     "name": "stdout",
     "output_type": "stream",
     "text": [
      "<class 'pandas.core.frame.DataFrame'>\n",
      "RangeIndex: 183412 entries, 0 to 183411\n",
      "Data columns (total 16 columns):\n",
      " #   Column                   Non-Null Count   Dtype  \n",
      "---  ------                   --------------   -----  \n",
      " 0   duration_sec             183412 non-null  int64  \n",
      " 1   start_time               183412 non-null  object \n",
      " 2   end_time                 183412 non-null  object \n",
      " 3   start_station_id         183215 non-null  float64\n",
      " 4   start_station_name       183215 non-null  object \n",
      " 5   start_station_latitude   183412 non-null  float64\n",
      " 6   start_station_longitude  183412 non-null  float64\n",
      " 7   end_station_id           183215 non-null  float64\n",
      " 8   end_station_name         183215 non-null  object \n",
      " 9   end_station_latitude     183412 non-null  float64\n",
      " 10  end_station_longitude    183412 non-null  float64\n",
      " 11  bike_id                  183412 non-null  int64  \n",
      " 12  user_type                183412 non-null  object \n",
      " 13  member_birth_year        175147 non-null  float64\n",
      " 14  member_gender            175147 non-null  object \n",
      " 15  bike_share_for_all_trip  183412 non-null  object \n",
      "dtypes: float64(7), int64(2), object(7)\n",
      "memory usage: 22.4+ MB\n"
     ]
    }
   ],
   "source": [
    "# check for data types \n",
    "df.info()"
   ]
  },
  {
   "cell_type": "code",
   "execution_count": 4,
   "metadata": {},
   "outputs": [
    {
     "data": {
      "text/plain": [
       "(183412, 16)"
      ]
     },
     "execution_count": 4,
     "metadata": {},
     "output_type": "execute_result"
    }
   ],
   "source": [
    "df.shape"
   ]
  },
  {
   "cell_type": "code",
   "execution_count": 5,
   "metadata": {
    "scrolled": false
   },
   "outputs": [
    {
     "data": {
      "text/html": [
       "<div>\n",
       "<style scoped>\n",
       "    .dataframe tbody tr th:only-of-type {\n",
       "        vertical-align: middle;\n",
       "    }\n",
       "\n",
       "    .dataframe tbody tr th {\n",
       "        vertical-align: top;\n",
       "    }\n",
       "\n",
       "    .dataframe thead th {\n",
       "        text-align: right;\n",
       "    }\n",
       "</style>\n",
       "<table border=\"1\" class=\"dataframe\">\n",
       "  <thead>\n",
       "    <tr style=\"text-align: right;\">\n",
       "      <th></th>\n",
       "      <th>duration_sec</th>\n",
       "      <th>start_station_id</th>\n",
       "      <th>start_station_latitude</th>\n",
       "      <th>start_station_longitude</th>\n",
       "      <th>end_station_id</th>\n",
       "      <th>end_station_latitude</th>\n",
       "      <th>end_station_longitude</th>\n",
       "      <th>bike_id</th>\n",
       "      <th>member_birth_year</th>\n",
       "    </tr>\n",
       "  </thead>\n",
       "  <tbody>\n",
       "    <tr>\n",
       "      <th>count</th>\n",
       "      <td>183412.000000</td>\n",
       "      <td>183215.000000</td>\n",
       "      <td>183412.000000</td>\n",
       "      <td>183412.000000</td>\n",
       "      <td>183215.000000</td>\n",
       "      <td>183412.000000</td>\n",
       "      <td>183412.000000</td>\n",
       "      <td>183412.000000</td>\n",
       "      <td>175147.000000</td>\n",
       "    </tr>\n",
       "    <tr>\n",
       "      <th>mean</th>\n",
       "      <td>726.078435</td>\n",
       "      <td>138.590427</td>\n",
       "      <td>37.771223</td>\n",
       "      <td>-122.352664</td>\n",
       "      <td>136.249123</td>\n",
       "      <td>37.771427</td>\n",
       "      <td>-122.352250</td>\n",
       "      <td>4472.906375</td>\n",
       "      <td>1984.806437</td>\n",
       "    </tr>\n",
       "    <tr>\n",
       "      <th>std</th>\n",
       "      <td>1794.389780</td>\n",
       "      <td>111.778864</td>\n",
       "      <td>0.099581</td>\n",
       "      <td>0.117097</td>\n",
       "      <td>111.515131</td>\n",
       "      <td>0.099490</td>\n",
       "      <td>0.116673</td>\n",
       "      <td>1664.383394</td>\n",
       "      <td>10.116689</td>\n",
       "    </tr>\n",
       "    <tr>\n",
       "      <th>min</th>\n",
       "      <td>61.000000</td>\n",
       "      <td>3.000000</td>\n",
       "      <td>37.317298</td>\n",
       "      <td>-122.453704</td>\n",
       "      <td>3.000000</td>\n",
       "      <td>37.317298</td>\n",
       "      <td>-122.453704</td>\n",
       "      <td>11.000000</td>\n",
       "      <td>1878.000000</td>\n",
       "    </tr>\n",
       "    <tr>\n",
       "      <th>25%</th>\n",
       "      <td>325.000000</td>\n",
       "      <td>47.000000</td>\n",
       "      <td>37.770083</td>\n",
       "      <td>-122.412408</td>\n",
       "      <td>44.000000</td>\n",
       "      <td>37.770407</td>\n",
       "      <td>-122.411726</td>\n",
       "      <td>3777.000000</td>\n",
       "      <td>1980.000000</td>\n",
       "    </tr>\n",
       "    <tr>\n",
       "      <th>50%</th>\n",
       "      <td>514.000000</td>\n",
       "      <td>104.000000</td>\n",
       "      <td>37.780760</td>\n",
       "      <td>-122.398285</td>\n",
       "      <td>100.000000</td>\n",
       "      <td>37.781010</td>\n",
       "      <td>-122.398279</td>\n",
       "      <td>4958.000000</td>\n",
       "      <td>1987.000000</td>\n",
       "    </tr>\n",
       "    <tr>\n",
       "      <th>75%</th>\n",
       "      <td>796.000000</td>\n",
       "      <td>239.000000</td>\n",
       "      <td>37.797280</td>\n",
       "      <td>-122.286533</td>\n",
       "      <td>235.000000</td>\n",
       "      <td>37.797320</td>\n",
       "      <td>-122.288045</td>\n",
       "      <td>5502.000000</td>\n",
       "      <td>1992.000000</td>\n",
       "    </tr>\n",
       "    <tr>\n",
       "      <th>max</th>\n",
       "      <td>85444.000000</td>\n",
       "      <td>398.000000</td>\n",
       "      <td>37.880222</td>\n",
       "      <td>-121.874119</td>\n",
       "      <td>398.000000</td>\n",
       "      <td>37.880222</td>\n",
       "      <td>-121.874119</td>\n",
       "      <td>6645.000000</td>\n",
       "      <td>2001.000000</td>\n",
       "    </tr>\n",
       "  </tbody>\n",
       "</table>\n",
       "</div>"
      ],
      "text/plain": [
       "        duration_sec  start_station_id  start_station_latitude  \\\n",
       "count  183412.000000     183215.000000           183412.000000   \n",
       "mean      726.078435        138.590427               37.771223   \n",
       "std      1794.389780        111.778864                0.099581   \n",
       "min        61.000000          3.000000               37.317298   \n",
       "25%       325.000000         47.000000               37.770083   \n",
       "50%       514.000000        104.000000               37.780760   \n",
       "75%       796.000000        239.000000               37.797280   \n",
       "max     85444.000000        398.000000               37.880222   \n",
       "\n",
       "       start_station_longitude  end_station_id  end_station_latitude  \\\n",
       "count            183412.000000   183215.000000         183412.000000   \n",
       "mean               -122.352664      136.249123             37.771427   \n",
       "std                   0.117097      111.515131              0.099490   \n",
       "min                -122.453704        3.000000             37.317298   \n",
       "25%                -122.412408       44.000000             37.770407   \n",
       "50%                -122.398285      100.000000             37.781010   \n",
       "75%                -122.286533      235.000000             37.797320   \n",
       "max                -121.874119      398.000000             37.880222   \n",
       "\n",
       "       end_station_longitude        bike_id  member_birth_year  \n",
       "count          183412.000000  183412.000000      175147.000000  \n",
       "mean             -122.352250    4472.906375        1984.806437  \n",
       "std                 0.116673    1664.383394          10.116689  \n",
       "min              -122.453704      11.000000        1878.000000  \n",
       "25%              -122.411726    3777.000000        1980.000000  \n",
       "50%              -122.398279    4958.000000        1987.000000  \n",
       "75%              -122.288045    5502.000000        1992.000000  \n",
       "max              -121.874119    6645.000000        2001.000000  "
      ]
     },
     "execution_count": 5,
     "metadata": {},
     "output_type": "execute_result"
    }
   ],
   "source": [
    "# check for descriptive stats \n",
    "df.describe()"
   ]
  },
  {
   "cell_type": "markdown",
   "metadata": {},
   "source": [
    "### Assess Data Quality "
   ]
  },
  {
   "cell_type": "code",
   "execution_count": 6,
   "metadata": {},
   "outputs": [
    {
     "data": {
      "text/plain": [
       "0"
      ]
     },
     "execution_count": 6,
     "metadata": {},
     "output_type": "execute_result"
    }
   ],
   "source": [
    "# check for duplicate \n",
    "df.duplicated().sum()"
   ]
  },
  {
   "cell_type": "code",
   "execution_count": 7,
   "metadata": {},
   "outputs": [
    {
     "data": {
      "text/plain": [
       "duration_sec                  0\n",
       "start_time                    0\n",
       "end_time                      0\n",
       "start_station_id            197\n",
       "start_station_name          197\n",
       "start_station_latitude        0\n",
       "start_station_longitude       0\n",
       "end_station_id              197\n",
       "end_station_name            197\n",
       "end_station_latitude          0\n",
       "end_station_longitude         0\n",
       "bike_id                       0\n",
       "user_type                     0\n",
       "member_birth_year          8265\n",
       "member_gender              8265\n",
       "bike_share_for_all_trip       0\n",
       "dtype: int64"
      ]
     },
     "execution_count": 7,
     "metadata": {},
     "output_type": "execute_result"
    }
   ],
   "source": [
    "# check for null values \n",
    "df.isna().sum()"
   ]
  },
  {
   "cell_type": "code",
   "execution_count": 8,
   "metadata": {},
   "outputs": [
    {
     "data": {
      "text/plain": [
       "67.0     4857\n",
       "58.0     3973\n",
       "21.0     3647\n",
       "15.0     3368\n",
       "3.0      2997\n",
       "         ... \n",
       "51.0        9\n",
       "300.0       7\n",
       "224.0       6\n",
       "344.0       6\n",
       "301.0       5\n",
       "Name: end_station_id, Length: 329, dtype: int64"
      ]
     },
     "execution_count": 8,
     "metadata": {},
     "output_type": "execute_result"
    }
   ],
   "source": [
    "df.end_station_id.value_counts()"
   ]
  },
  {
   "cell_type": "code",
   "execution_count": 9,
   "metadata": {},
   "outputs": [
    {
     "data": {
      "text/plain": [
       "58.0     3904\n",
       "67.0     3544\n",
       "81.0     3052\n",
       "21.0     2895\n",
       "3.0      2760\n",
       "         ... \n",
       "301.0       9\n",
       "51.0        7\n",
       "300.0       4\n",
       "224.0       4\n",
       "344.0       2\n",
       "Name: start_station_id, Length: 329, dtype: int64"
      ]
     },
     "execution_count": 9,
     "metadata": {},
     "output_type": "execute_result"
    }
   ],
   "source": [
    "df.start_station_id.value_counts()"
   ]
  },
  {
   "cell_type": "code",
   "execution_count": 10,
   "metadata": {},
   "outputs": [
    {
     "data": {
      "text/plain": [
       "4794    191\n",
       "4814    176\n",
       "5014    174\n",
       "4422    174\n",
       "5175    173\n",
       "       ... \n",
       "5647      1\n",
       "3655      1\n",
       "1194      1\n",
       "3114      1\n",
       "5891      1\n",
       "Name: bike_id, Length: 4646, dtype: int64"
      ]
     },
     "execution_count": 10,
     "metadata": {},
     "output_type": "execute_result"
    }
   ],
   "source": [
    "df.bike_id.value_counts()"
   ]
  },
  {
   "cell_type": "code",
   "execution_count": 11,
   "metadata": {},
   "outputs": [
    {
     "data": {
      "text/plain": [
       "Subscriber    163544\n",
       "Customer       19868\n",
       "Name: user_type, dtype: int64"
      ]
     },
     "execution_count": 11,
     "metadata": {},
     "output_type": "execute_result"
    }
   ],
   "source": [
    "df.user_type.value_counts()"
   ]
  },
  {
   "cell_type": "code",
   "execution_count": 12,
   "metadata": {},
   "outputs": [
    {
     "data": {
      "text/plain": [
       "Male      130651\n",
       "Female     40844\n",
       "Other       3652\n",
       "Name: member_gender, dtype: int64"
      ]
     },
     "execution_count": 12,
     "metadata": {},
     "output_type": "execute_result"
    }
   ],
   "source": [
    "df.member_gender.value_counts()"
   ]
  },
  {
   "cell_type": "code",
   "execution_count": 13,
   "metadata": {},
   "outputs": [
    {
     "data": {
      "text/plain": [
       "No     166053\n",
       "Yes     17359\n",
       "Name: bike_share_for_all_trip, dtype: int64"
      ]
     },
     "execution_count": 13,
     "metadata": {},
     "output_type": "execute_result"
    }
   ],
   "source": [
    "df.bike_share_for_all_trip.value_counts()"
   ]
  },
  {
   "cell_type": "code",
   "execution_count": 14,
   "metadata": {
    "scrolled": false
   },
   "outputs": [
    {
     "data": {
      "text/plain": [
       "0         1984.0\n",
       "1            NaN\n",
       "2         1972.0\n",
       "3         1989.0\n",
       "4         1974.0\n",
       "           ...  \n",
       "183407    1996.0\n",
       "183408    1984.0\n",
       "183409    1990.0\n",
       "183410    1988.0\n",
       "183411    1989.0\n",
       "Name: member_birth_year, Length: 183412, dtype: float64"
      ]
     },
     "execution_count": 14,
     "metadata": {},
     "output_type": "execute_result"
    }
   ],
   "source": [
    "df.member_birth_year"
   ]
  },
  {
   "cell_type": "markdown",
   "metadata": {},
   "source": [
    "### Assesment Findings \n",
    "\n",
    "1. start_time & end_time must be in time format. \n",
    "2. start_station_id,end_station_id,bike id must be in object format. \n",
    "3. user_type, member_gender must be in category format. \n",
    "4. We should add a new column to calcute age from birth dat & member_birth must be in integer format. \n",
    "5. We should add a few new columns to calculate riding duration in different units such as minute, week, day etc.We need that to plot more readable graphs and better analysis. \n",
    "6. Birtdates column have some incorrect entries. \n"
   ]
  },
  {
   "cell_type": "markdown",
   "metadata": {},
   "source": [
    "### Clean Data "
   ]
  },
  {
   "cell_type": "code",
   "execution_count": 15,
   "metadata": {},
   "outputs": [],
   "source": [
    "# copy data frame for cleaning \n",
    "df_clean = df.copy()"
   ]
  },
  {
   "cell_type": "code",
   "execution_count": 16,
   "metadata": {
    "scrolled": true
   },
   "outputs": [
    {
     "data": {
      "text/html": [
       "<div>\n",
       "<style scoped>\n",
       "    .dataframe tbody tr th:only-of-type {\n",
       "        vertical-align: middle;\n",
       "    }\n",
       "\n",
       "    .dataframe tbody tr th {\n",
       "        vertical-align: top;\n",
       "    }\n",
       "\n",
       "    .dataframe thead th {\n",
       "        text-align: right;\n",
       "    }\n",
       "</style>\n",
       "<table border=\"1\" class=\"dataframe\">\n",
       "  <thead>\n",
       "    <tr style=\"text-align: right;\">\n",
       "      <th></th>\n",
       "      <th>duration_sec</th>\n",
       "      <th>start_time</th>\n",
       "      <th>end_time</th>\n",
       "      <th>start_station_id</th>\n",
       "      <th>start_station_name</th>\n",
       "      <th>start_station_latitude</th>\n",
       "      <th>start_station_longitude</th>\n",
       "      <th>end_station_id</th>\n",
       "      <th>end_station_name</th>\n",
       "      <th>end_station_latitude</th>\n",
       "      <th>end_station_longitude</th>\n",
       "      <th>bike_id</th>\n",
       "      <th>user_type</th>\n",
       "      <th>member_birth_year</th>\n",
       "      <th>member_gender</th>\n",
       "      <th>bike_share_for_all_trip</th>\n",
       "    </tr>\n",
       "  </thead>\n",
       "  <tbody>\n",
       "    <tr>\n",
       "      <th>0</th>\n",
       "      <td>52185</td>\n",
       "      <td>2019-02-28 17:32:10.1450</td>\n",
       "      <td>2019-03-01 08:01:55.9750</td>\n",
       "      <td>21.0</td>\n",
       "      <td>Montgomery St BART Station (Market St at 2nd St)</td>\n",
       "      <td>37.789625</td>\n",
       "      <td>-122.400811</td>\n",
       "      <td>13.0</td>\n",
       "      <td>Commercial St at Montgomery St</td>\n",
       "      <td>37.794231</td>\n",
       "      <td>-122.402923</td>\n",
       "      <td>4902</td>\n",
       "      <td>Customer</td>\n",
       "      <td>1984.0</td>\n",
       "      <td>Male</td>\n",
       "      <td>No</td>\n",
       "    </tr>\n",
       "    <tr>\n",
       "      <th>1</th>\n",
       "      <td>42521</td>\n",
       "      <td>2019-02-28 18:53:21.7890</td>\n",
       "      <td>2019-03-01 06:42:03.0560</td>\n",
       "      <td>23.0</td>\n",
       "      <td>The Embarcadero at Steuart St</td>\n",
       "      <td>37.791464</td>\n",
       "      <td>-122.391034</td>\n",
       "      <td>81.0</td>\n",
       "      <td>Berry St at 4th St</td>\n",
       "      <td>37.775880</td>\n",
       "      <td>-122.393170</td>\n",
       "      <td>2535</td>\n",
       "      <td>Customer</td>\n",
       "      <td>NaN</td>\n",
       "      <td>NaN</td>\n",
       "      <td>No</td>\n",
       "    </tr>\n",
       "    <tr>\n",
       "      <th>2</th>\n",
       "      <td>61854</td>\n",
       "      <td>2019-02-28 12:13:13.2180</td>\n",
       "      <td>2019-03-01 05:24:08.1460</td>\n",
       "      <td>86.0</td>\n",
       "      <td>Market St at Dolores St</td>\n",
       "      <td>37.769305</td>\n",
       "      <td>-122.426826</td>\n",
       "      <td>3.0</td>\n",
       "      <td>Powell St BART Station (Market St at 4th St)</td>\n",
       "      <td>37.786375</td>\n",
       "      <td>-122.404904</td>\n",
       "      <td>5905</td>\n",
       "      <td>Customer</td>\n",
       "      <td>1972.0</td>\n",
       "      <td>Male</td>\n",
       "      <td>No</td>\n",
       "    </tr>\n",
       "    <tr>\n",
       "      <th>3</th>\n",
       "      <td>36490</td>\n",
       "      <td>2019-02-28 17:54:26.0100</td>\n",
       "      <td>2019-03-01 04:02:36.8420</td>\n",
       "      <td>375.0</td>\n",
       "      <td>Grove St at Masonic Ave</td>\n",
       "      <td>37.774836</td>\n",
       "      <td>-122.446546</td>\n",
       "      <td>70.0</td>\n",
       "      <td>Central Ave at Fell St</td>\n",
       "      <td>37.773311</td>\n",
       "      <td>-122.444293</td>\n",
       "      <td>6638</td>\n",
       "      <td>Subscriber</td>\n",
       "      <td>1989.0</td>\n",
       "      <td>Other</td>\n",
       "      <td>No</td>\n",
       "    </tr>\n",
       "    <tr>\n",
       "      <th>4</th>\n",
       "      <td>1585</td>\n",
       "      <td>2019-02-28 23:54:18.5490</td>\n",
       "      <td>2019-03-01 00:20:44.0740</td>\n",
       "      <td>7.0</td>\n",
       "      <td>Frank H Ogawa Plaza</td>\n",
       "      <td>37.804562</td>\n",
       "      <td>-122.271738</td>\n",
       "      <td>222.0</td>\n",
       "      <td>10th Ave at E 15th St</td>\n",
       "      <td>37.792714</td>\n",
       "      <td>-122.248780</td>\n",
       "      <td>4898</td>\n",
       "      <td>Subscriber</td>\n",
       "      <td>1974.0</td>\n",
       "      <td>Male</td>\n",
       "      <td>Yes</td>\n",
       "    </tr>\n",
       "  </tbody>\n",
       "</table>\n",
       "</div>"
      ],
      "text/plain": [
       "   duration_sec                start_time                  end_time  \\\n",
       "0         52185  2019-02-28 17:32:10.1450  2019-03-01 08:01:55.9750   \n",
       "1         42521  2019-02-28 18:53:21.7890  2019-03-01 06:42:03.0560   \n",
       "2         61854  2019-02-28 12:13:13.2180  2019-03-01 05:24:08.1460   \n",
       "3         36490  2019-02-28 17:54:26.0100  2019-03-01 04:02:36.8420   \n",
       "4          1585  2019-02-28 23:54:18.5490  2019-03-01 00:20:44.0740   \n",
       "\n",
       "   start_station_id                                start_station_name  \\\n",
       "0              21.0  Montgomery St BART Station (Market St at 2nd St)   \n",
       "1              23.0                     The Embarcadero at Steuart St   \n",
       "2              86.0                           Market St at Dolores St   \n",
       "3             375.0                           Grove St at Masonic Ave   \n",
       "4               7.0                               Frank H Ogawa Plaza   \n",
       "\n",
       "   start_station_latitude  start_station_longitude  end_station_id  \\\n",
       "0               37.789625              -122.400811            13.0   \n",
       "1               37.791464              -122.391034            81.0   \n",
       "2               37.769305              -122.426826             3.0   \n",
       "3               37.774836              -122.446546            70.0   \n",
       "4               37.804562              -122.271738           222.0   \n",
       "\n",
       "                               end_station_name  end_station_latitude  \\\n",
       "0                Commercial St at Montgomery St             37.794231   \n",
       "1                            Berry St at 4th St             37.775880   \n",
       "2  Powell St BART Station (Market St at 4th St)             37.786375   \n",
       "3                        Central Ave at Fell St             37.773311   \n",
       "4                         10th Ave at E 15th St             37.792714   \n",
       "\n",
       "   end_station_longitude  bike_id   user_type  member_birth_year  \\\n",
       "0            -122.402923     4902    Customer             1984.0   \n",
       "1            -122.393170     2535    Customer                NaN   \n",
       "2            -122.404904     5905    Customer             1972.0   \n",
       "3            -122.444293     6638  Subscriber             1989.0   \n",
       "4            -122.248780     4898  Subscriber             1974.0   \n",
       "\n",
       "  member_gender bike_share_for_all_trip  \n",
       "0          Male                      No  \n",
       "1           NaN                      No  \n",
       "2          Male                      No  \n",
       "3         Other                      No  \n",
       "4          Male                     Yes  "
      ]
     },
     "execution_count": 16,
     "metadata": {},
     "output_type": "execute_result"
    }
   ],
   "source": [
    "df_clean.head()"
   ]
  },
  {
   "cell_type": "markdown",
   "metadata": {},
   "source": [
    "#### Define : First 3 issues --> Convert data types to the correct one"
   ]
  },
  {
   "cell_type": "markdown",
   "metadata": {},
   "source": [
    "#### Code"
   ]
  },
  {
   "cell_type": "code",
   "execution_count": 17,
   "metadata": {
    "scrolled": true
   },
   "outputs": [],
   "source": [
    "# fix columns with correct dtypes. \n",
    "\n",
    "# convert to date_time \n",
    "df_clean.start_time = pd.to_datetime(df_clean.start_time)\n",
    "df_clean.end_time = pd.to_datetime(df_clean.end_time)\n",
    "\n",
    "# convert to object \n",
    "df_clean.start_station_id = df_clean.start_station_id.astype('str')\n",
    "df_clean.end_station_id = df_clean.end_station_id.astype('str') \n",
    "df_clean.bike_id = df_clean.bike_id.astype('str') \n",
    "\n",
    "#convert to category \n",
    "df_clean.user_type = df_clean.user_type.astype('category')\n",
    "df_clean.member_gender = df_clean.member_gender.astype('category') \n",
    "\n",
    "\n"
   ]
  },
  {
   "cell_type": "markdown",
   "metadata": {},
   "source": [
    "#### Test"
   ]
  },
  {
   "cell_type": "code",
   "execution_count": 18,
   "metadata": {
    "scrolled": true
   },
   "outputs": [
    {
     "name": "stdout",
     "output_type": "stream",
     "text": [
      "<class 'pandas.core.frame.DataFrame'>\n",
      "RangeIndex: 183412 entries, 0 to 183411\n",
      "Data columns (total 16 columns):\n",
      " #   Column                   Non-Null Count   Dtype         \n",
      "---  ------                   --------------   -----         \n",
      " 0   duration_sec             183412 non-null  int64         \n",
      " 1   start_time               183412 non-null  datetime64[ns]\n",
      " 2   end_time                 183412 non-null  datetime64[ns]\n",
      " 3   start_station_id         183412 non-null  object        \n",
      " 4   start_station_name       183215 non-null  object        \n",
      " 5   start_station_latitude   183412 non-null  float64       \n",
      " 6   start_station_longitude  183412 non-null  float64       \n",
      " 7   end_station_id           183412 non-null  object        \n",
      " 8   end_station_name         183215 non-null  object        \n",
      " 9   end_station_latitude     183412 non-null  float64       \n",
      " 10  end_station_longitude    183412 non-null  float64       \n",
      " 11  bike_id                  183412 non-null  object        \n",
      " 12  user_type                183412 non-null  category      \n",
      " 13  member_birth_year        175147 non-null  float64       \n",
      " 14  member_gender            175147 non-null  category      \n",
      " 15  bike_share_for_all_trip  183412 non-null  object        \n",
      "dtypes: category(2), datetime64[ns](2), float64(5), int64(1), object(6)\n",
      "memory usage: 19.9+ MB\n"
     ]
    }
   ],
   "source": [
    "df_clean.info()"
   ]
  },
  {
   "cell_type": "markdown",
   "metadata": {},
   "source": [
    "#### Define :  Add a new column as age. Subtract birth year from 2019 to calculate age and store it in an new column. Then check for outliers. "
   ]
  },
  {
   "cell_type": "markdown",
   "metadata": {},
   "source": [
    "#### Code "
   ]
  },
  {
   "cell_type": "code",
   "execution_count": 19,
   "metadata": {},
   "outputs": [],
   "source": [
    "df_clean['user_age'] = 2019 - df_clean.member_birth_year"
   ]
  },
  {
   "cell_type": "markdown",
   "metadata": {},
   "source": [
    "#### Test "
   ]
  },
  {
   "cell_type": "code",
   "execution_count": 20,
   "metadata": {
    "scrolled": true
   },
   "outputs": [
    {
     "name": "stdout",
     "output_type": "stream",
     "text": [
      "<class 'pandas.core.frame.DataFrame'>\n",
      "RangeIndex: 183412 entries, 0 to 183411\n",
      "Data columns (total 17 columns):\n",
      " #   Column                   Non-Null Count   Dtype         \n",
      "---  ------                   --------------   -----         \n",
      " 0   duration_sec             183412 non-null  int64         \n",
      " 1   start_time               183412 non-null  datetime64[ns]\n",
      " 2   end_time                 183412 non-null  datetime64[ns]\n",
      " 3   start_station_id         183412 non-null  object        \n",
      " 4   start_station_name       183215 non-null  object        \n",
      " 5   start_station_latitude   183412 non-null  float64       \n",
      " 6   start_station_longitude  183412 non-null  float64       \n",
      " 7   end_station_id           183412 non-null  object        \n",
      " 8   end_station_name         183215 non-null  object        \n",
      " 9   end_station_latitude     183412 non-null  float64       \n",
      " 10  end_station_longitude    183412 non-null  float64       \n",
      " 11  bike_id                  183412 non-null  object        \n",
      " 12  user_type                183412 non-null  category      \n",
      " 13  member_birth_year        175147 non-null  float64       \n",
      " 14  member_gender            175147 non-null  category      \n",
      " 15  bike_share_for_all_trip  183412 non-null  object        \n",
      " 16  user_age                 175147 non-null  float64       \n",
      "dtypes: category(2), datetime64[ns](2), float64(6), int64(1), object(6)\n",
      "memory usage: 21.3+ MB\n"
     ]
    }
   ],
   "source": [
    "df_clean.info()"
   ]
  },
  {
   "cell_type": "code",
   "execution_count": 21,
   "metadata": {
    "scrolled": true
   },
   "outputs": [
    {
     "data": {
      "text/html": [
       "<div>\n",
       "<style scoped>\n",
       "    .dataframe tbody tr th:only-of-type {\n",
       "        vertical-align: middle;\n",
       "    }\n",
       "\n",
       "    .dataframe tbody tr th {\n",
       "        vertical-align: top;\n",
       "    }\n",
       "\n",
       "    .dataframe thead th {\n",
       "        text-align: right;\n",
       "    }\n",
       "</style>\n",
       "<table border=\"1\" class=\"dataframe\">\n",
       "  <thead>\n",
       "    <tr style=\"text-align: right;\">\n",
       "      <th></th>\n",
       "      <th>duration_sec</th>\n",
       "      <th>start_time</th>\n",
       "      <th>end_time</th>\n",
       "      <th>start_station_id</th>\n",
       "      <th>start_station_name</th>\n",
       "      <th>start_station_latitude</th>\n",
       "      <th>start_station_longitude</th>\n",
       "      <th>end_station_id</th>\n",
       "      <th>end_station_name</th>\n",
       "      <th>end_station_latitude</th>\n",
       "      <th>end_station_longitude</th>\n",
       "      <th>bike_id</th>\n",
       "      <th>user_type</th>\n",
       "      <th>member_birth_year</th>\n",
       "      <th>member_gender</th>\n",
       "      <th>bike_share_for_all_trip</th>\n",
       "      <th>user_age</th>\n",
       "    </tr>\n",
       "  </thead>\n",
       "  <tbody>\n",
       "    <tr>\n",
       "      <th>0</th>\n",
       "      <td>52185</td>\n",
       "      <td>2019-02-28 17:32:10.145</td>\n",
       "      <td>2019-03-01 08:01:55.975</td>\n",
       "      <td>21.0</td>\n",
       "      <td>Montgomery St BART Station (Market St at 2nd St)</td>\n",
       "      <td>37.789625</td>\n",
       "      <td>-122.400811</td>\n",
       "      <td>13.0</td>\n",
       "      <td>Commercial St at Montgomery St</td>\n",
       "      <td>37.794231</td>\n",
       "      <td>-122.402923</td>\n",
       "      <td>4902</td>\n",
       "      <td>Customer</td>\n",
       "      <td>1984.0</td>\n",
       "      <td>Male</td>\n",
       "      <td>No</td>\n",
       "      <td>35.0</td>\n",
       "    </tr>\n",
       "    <tr>\n",
       "      <th>1</th>\n",
       "      <td>42521</td>\n",
       "      <td>2019-02-28 18:53:21.789</td>\n",
       "      <td>2019-03-01 06:42:03.056</td>\n",
       "      <td>23.0</td>\n",
       "      <td>The Embarcadero at Steuart St</td>\n",
       "      <td>37.791464</td>\n",
       "      <td>-122.391034</td>\n",
       "      <td>81.0</td>\n",
       "      <td>Berry St at 4th St</td>\n",
       "      <td>37.775880</td>\n",
       "      <td>-122.393170</td>\n",
       "      <td>2535</td>\n",
       "      <td>Customer</td>\n",
       "      <td>NaN</td>\n",
       "      <td>NaN</td>\n",
       "      <td>No</td>\n",
       "      <td>NaN</td>\n",
       "    </tr>\n",
       "    <tr>\n",
       "      <th>2</th>\n",
       "      <td>61854</td>\n",
       "      <td>2019-02-28 12:13:13.218</td>\n",
       "      <td>2019-03-01 05:24:08.146</td>\n",
       "      <td>86.0</td>\n",
       "      <td>Market St at Dolores St</td>\n",
       "      <td>37.769305</td>\n",
       "      <td>-122.426826</td>\n",
       "      <td>3.0</td>\n",
       "      <td>Powell St BART Station (Market St at 4th St)</td>\n",
       "      <td>37.786375</td>\n",
       "      <td>-122.404904</td>\n",
       "      <td>5905</td>\n",
       "      <td>Customer</td>\n",
       "      <td>1972.0</td>\n",
       "      <td>Male</td>\n",
       "      <td>No</td>\n",
       "      <td>47.0</td>\n",
       "    </tr>\n",
       "    <tr>\n",
       "      <th>3</th>\n",
       "      <td>36490</td>\n",
       "      <td>2019-02-28 17:54:26.010</td>\n",
       "      <td>2019-03-01 04:02:36.842</td>\n",
       "      <td>375.0</td>\n",
       "      <td>Grove St at Masonic Ave</td>\n",
       "      <td>37.774836</td>\n",
       "      <td>-122.446546</td>\n",
       "      <td>70.0</td>\n",
       "      <td>Central Ave at Fell St</td>\n",
       "      <td>37.773311</td>\n",
       "      <td>-122.444293</td>\n",
       "      <td>6638</td>\n",
       "      <td>Subscriber</td>\n",
       "      <td>1989.0</td>\n",
       "      <td>Other</td>\n",
       "      <td>No</td>\n",
       "      <td>30.0</td>\n",
       "    </tr>\n",
       "    <tr>\n",
       "      <th>4</th>\n",
       "      <td>1585</td>\n",
       "      <td>2019-02-28 23:54:18.549</td>\n",
       "      <td>2019-03-01 00:20:44.074</td>\n",
       "      <td>7.0</td>\n",
       "      <td>Frank H Ogawa Plaza</td>\n",
       "      <td>37.804562</td>\n",
       "      <td>-122.271738</td>\n",
       "      <td>222.0</td>\n",
       "      <td>10th Ave at E 15th St</td>\n",
       "      <td>37.792714</td>\n",
       "      <td>-122.248780</td>\n",
       "      <td>4898</td>\n",
       "      <td>Subscriber</td>\n",
       "      <td>1974.0</td>\n",
       "      <td>Male</td>\n",
       "      <td>Yes</td>\n",
       "      <td>45.0</td>\n",
       "    </tr>\n",
       "  </tbody>\n",
       "</table>\n",
       "</div>"
      ],
      "text/plain": [
       "   duration_sec              start_time                end_time  \\\n",
       "0         52185 2019-02-28 17:32:10.145 2019-03-01 08:01:55.975   \n",
       "1         42521 2019-02-28 18:53:21.789 2019-03-01 06:42:03.056   \n",
       "2         61854 2019-02-28 12:13:13.218 2019-03-01 05:24:08.146   \n",
       "3         36490 2019-02-28 17:54:26.010 2019-03-01 04:02:36.842   \n",
       "4          1585 2019-02-28 23:54:18.549 2019-03-01 00:20:44.074   \n",
       "\n",
       "  start_station_id                                start_station_name  \\\n",
       "0             21.0  Montgomery St BART Station (Market St at 2nd St)   \n",
       "1             23.0                     The Embarcadero at Steuart St   \n",
       "2             86.0                           Market St at Dolores St   \n",
       "3            375.0                           Grove St at Masonic Ave   \n",
       "4              7.0                               Frank H Ogawa Plaza   \n",
       "\n",
       "   start_station_latitude  start_station_longitude end_station_id  \\\n",
       "0               37.789625              -122.400811           13.0   \n",
       "1               37.791464              -122.391034           81.0   \n",
       "2               37.769305              -122.426826            3.0   \n",
       "3               37.774836              -122.446546           70.0   \n",
       "4               37.804562              -122.271738          222.0   \n",
       "\n",
       "                               end_station_name  end_station_latitude  \\\n",
       "0                Commercial St at Montgomery St             37.794231   \n",
       "1                            Berry St at 4th St             37.775880   \n",
       "2  Powell St BART Station (Market St at 4th St)             37.786375   \n",
       "3                        Central Ave at Fell St             37.773311   \n",
       "4                         10th Ave at E 15th St             37.792714   \n",
       "\n",
       "   end_station_longitude bike_id   user_type  member_birth_year member_gender  \\\n",
       "0            -122.402923    4902    Customer             1984.0          Male   \n",
       "1            -122.393170    2535    Customer                NaN           NaN   \n",
       "2            -122.404904    5905    Customer             1972.0          Male   \n",
       "3            -122.444293    6638  Subscriber             1989.0         Other   \n",
       "4            -122.248780    4898  Subscriber             1974.0          Male   \n",
       "\n",
       "  bike_share_for_all_trip  user_age  \n",
       "0                      No      35.0  \n",
       "1                      No       NaN  \n",
       "2                      No      47.0  \n",
       "3                      No      30.0  \n",
       "4                     Yes      45.0  "
      ]
     },
     "execution_count": 21,
     "metadata": {},
     "output_type": "execute_result"
    }
   ],
   "source": [
    "df_clean.head()"
   ]
  },
  {
   "cell_type": "code",
   "execution_count": 22,
   "metadata": {
    "scrolled": false
   },
   "outputs": [
    {
     "data": {
      "text/plain": [
       "array([[<AxesSubplot:title={'center':'user_age'}>]], dtype=object)"
      ]
     },
     "execution_count": 22,
     "metadata": {},
     "output_type": "execute_result"
    },
    {
     "data": {
      "image/png": "[encoded data removed]",
      "text/plain": [
       "<Figure size 432x288 with 1 Axes>"
      ]
     },
     "metadata": {
      "needs_background": "light"
     },
     "output_type": "display_data"
    }
   ],
   "source": [
    "# check age values by creating a histogram\n",
    "# https://pandas.pydata.org/docs/reference/api/pandas.DataFrame.hist.html\n",
    "\n",
    "age_bins = np.arange(0,df_clean.user_age.max()+5, 5)\n",
    "df_clean.hist(column = 'user_age', bins= age_bins )"
   ]
  },
  {
   "cell_type": "code",
   "execution_count": 23,
   "metadata": {
    "scrolled": false
   },
   "outputs": [
    {
     "data": {
      "text/plain": [
       "31.0     10236\n",
       "26.0      9325\n",
       "30.0      8972\n",
       "29.0      8658\n",
       "28.0      8498\n",
       "         ...  \n",
       "89.0         1\n",
       "92.0         1\n",
       "91.0         1\n",
       "109.0        1\n",
       "141.0        1\n",
       "Name: user_age, Length: 75, dtype: int64"
      ]
     },
     "execution_count": 23,
     "metadata": {},
     "output_type": "execute_result"
    }
   ],
   "source": [
    "#check with value_counts method. There are a few outlier (109, 141 etc..)\n",
    "df_clean.user_age.value_counts()"
   ]
  },
  {
   "cell_type": "code",
   "execution_count": 24,
   "metadata": {
    "scrolled": true
   },
   "outputs": [
    {
     "data": {
      "text/plain": [
       "count    175147.000000\n",
       "mean         34.193563\n",
       "std          10.116689\n",
       "min          18.000000\n",
       "25%          27.000000\n",
       "50%          32.000000\n",
       "75%          39.000000\n",
       "max         141.000000\n",
       "Name: user_age, dtype: float64"
      ]
     },
     "execution_count": 24,
     "metadata": {},
     "output_type": "execute_result"
    }
   ],
   "source": [
    "df_clean.user_age.describe()"
   ]
  },
  {
   "cell_type": "code",
   "execution_count": 25,
   "metadata": {},
   "outputs": [
    {
     "data": {
      "text/plain": [
       "count    175147.000000\n",
       "mean         34.193563\n",
       "std          10.116689\n",
       "min          18.000000\n",
       "50%          32.000000\n",
       "99.9%        86.000000\n",
       "max         141.000000\n",
       "Name: user_age, dtype: float64"
      ]
     },
     "execution_count": 25,
     "metadata": {},
     "output_type": "execute_result"
    }
   ],
   "source": [
    "# %99.9 of users under age 86 \n",
    "df_clean.user_age.describe(percentiles = [.999])"
   ]
  },
  {
   "cell_type": "code",
   "execution_count": 26,
   "metadata": {},
   "outputs": [],
   "source": [
    "# drop outlier values for user_age. According to histogram and descriptive stats, we can clean under age 85. \n",
    "df_clean = df_clean.query('user_age <= 85')"
   ]
  },
  {
   "cell_type": "code",
   "execution_count": 27,
   "metadata": {
    "scrolled": true
   },
   "outputs": [
    {
     "data": {
      "text/plain": [
       "count    174960.000000\n",
       "mean         34.123382\n",
       "std           9.879157\n",
       "min          18.000000\n",
       "25%          27.000000\n",
       "50%          32.000000\n",
       "75%          39.000000\n",
       "max          85.000000\n",
       "Name: user_age, dtype: float64"
      ]
     },
     "execution_count": 27,
     "metadata": {},
     "output_type": "execute_result"
    }
   ],
   "source": [
    "df_clean.user_age.describe()"
   ]
  },
  {
   "cell_type": "markdown",
   "metadata": {},
   "source": [
    "##### Define : Birth date and user age must be int. Convert to int format"
   ]
  },
  {
   "cell_type": "markdown",
   "metadata": {},
   "source": [
    "#### Code "
   ]
  },
  {
   "cell_type": "code",
   "execution_count": 28,
   "metadata": {
    "scrolled": false
   },
   "outputs": [],
   "source": [
    "df_clean.member_birth_year = df_clean.member_birth_year.astype(int)\n",
    "df_clean.user_age = df_clean.user_age.astype(int)"
   ]
  },
  {
   "cell_type": "markdown",
   "metadata": {},
   "source": [
    "#### Test"
   ]
  },
  {
   "cell_type": "code",
   "execution_count": 29,
   "metadata": {
    "scrolled": false
   },
   "outputs": [
    {
     "name": "stdout",
     "output_type": "stream",
     "text": [
      "<class 'pandas.core.frame.DataFrame'>\n",
      "Int64Index: 174960 entries, 0 to 183411\n",
      "Data columns (total 17 columns):\n",
      " #   Column                   Non-Null Count   Dtype         \n",
      "---  ------                   --------------   -----         \n",
      " 0   duration_sec             174960 non-null  int64         \n",
      " 1   start_time               174960 non-null  datetime64[ns]\n",
      " 2   end_time                 174960 non-null  datetime64[ns]\n",
      " 3   start_station_id         174960 non-null  object        \n",
      " 4   start_station_name       174765 non-null  object        \n",
      " 5   start_station_latitude   174960 non-null  float64       \n",
      " 6   start_station_longitude  174960 non-null  float64       \n",
      " 7   end_station_id           174960 non-null  object        \n",
      " 8   end_station_name         174765 non-null  object        \n",
      " 9   end_station_latitude     174960 non-null  float64       \n",
      " 10  end_station_longitude    174960 non-null  float64       \n",
      " 11  bike_id                  174960 non-null  object        \n",
      " 12  user_type                174960 non-null  category      \n",
      " 13  member_birth_year        174960 non-null  int32         \n",
      " 14  member_gender            174960 non-null  category      \n",
      " 15  bike_share_for_all_trip  174960 non-null  object        \n",
      " 16  user_age                 174960 non-null  int32         \n",
      "dtypes: category(2), datetime64[ns](2), float64(4), int32(2), int64(1), object(6)\n",
      "memory usage: 20.4+ MB\n"
     ]
    }
   ],
   "source": [
    "df_clean.info()"
   ]
  },
  {
   "cell_type": "code",
   "execution_count": 30,
   "metadata": {
    "scrolled": false
   },
   "outputs": [
    {
     "data": {
      "text/html": [
       "<div>\n",
       "<style scoped>\n",
       "    .dataframe tbody tr th:only-of-type {\n",
       "        vertical-align: middle;\n",
       "    }\n",
       "\n",
       "    .dataframe tbody tr th {\n",
       "        vertical-align: top;\n",
       "    }\n",
       "\n",
       "    .dataframe thead th {\n",
       "        text-align: right;\n",
       "    }\n",
       "</style>\n",
       "<table border=\"1\" class=\"dataframe\">\n",
       "  <thead>\n",
       "    <tr style=\"text-align: right;\">\n",
       "      <th></th>\n",
       "      <th>duration_sec</th>\n",
       "      <th>start_time</th>\n",
       "      <th>end_time</th>\n",
       "      <th>start_station_id</th>\n",
       "      <th>start_station_name</th>\n",
       "      <th>start_station_latitude</th>\n",
       "      <th>start_station_longitude</th>\n",
       "      <th>end_station_id</th>\n",
       "      <th>end_station_name</th>\n",
       "      <th>end_station_latitude</th>\n",
       "      <th>end_station_longitude</th>\n",
       "      <th>bike_id</th>\n",
       "      <th>user_type</th>\n",
       "      <th>member_birth_year</th>\n",
       "      <th>member_gender</th>\n",
       "      <th>bike_share_for_all_trip</th>\n",
       "      <th>user_age</th>\n",
       "    </tr>\n",
       "  </thead>\n",
       "  <tbody>\n",
       "    <tr>\n",
       "      <th>0</th>\n",
       "      <td>52185</td>\n",
       "      <td>2019-02-28 17:32:10.145</td>\n",
       "      <td>2019-03-01 08:01:55.975</td>\n",
       "      <td>21.0</td>\n",
       "      <td>Montgomery St BART Station (Market St at 2nd St)</td>\n",
       "      <td>37.789625</td>\n",
       "      <td>-122.400811</td>\n",
       "      <td>13.0</td>\n",
       "      <td>Commercial St at Montgomery St</td>\n",
       "      <td>37.794231</td>\n",
       "      <td>-122.402923</td>\n",
       "      <td>4902</td>\n",
       "      <td>Customer</td>\n",
       "      <td>1984</td>\n",
       "      <td>Male</td>\n",
       "      <td>No</td>\n",
       "      <td>35</td>\n",
       "    </tr>\n",
       "    <tr>\n",
       "      <th>2</th>\n",
       "      <td>61854</td>\n",
       "      <td>2019-02-28 12:13:13.218</td>\n",
       "      <td>2019-03-01 05:24:08.146</td>\n",
       "      <td>86.0</td>\n",
       "      <td>Market St at Dolores St</td>\n",
       "      <td>37.769305</td>\n",
       "      <td>-122.426826</td>\n",
       "      <td>3.0</td>\n",
       "      <td>Powell St BART Station (Market St at 4th St)</td>\n",
       "      <td>37.786375</td>\n",
       "      <td>-122.404904</td>\n",
       "      <td>5905</td>\n",
       "      <td>Customer</td>\n",
       "      <td>1972</td>\n",
       "      <td>Male</td>\n",
       "      <td>No</td>\n",
       "      <td>47</td>\n",
       "    </tr>\n",
       "    <tr>\n",
       "      <th>3</th>\n",
       "      <td>36490</td>\n",
       "      <td>2019-02-28 17:54:26.010</td>\n",
       "      <td>2019-03-01 04:02:36.842</td>\n",
       "      <td>375.0</td>\n",
       "      <td>Grove St at Masonic Ave</td>\n",
       "      <td>37.774836</td>\n",
       "      <td>-122.446546</td>\n",
       "      <td>70.0</td>\n",
       "      <td>Central Ave at Fell St</td>\n",
       "      <td>37.773311</td>\n",
       "      <td>-122.444293</td>\n",
       "      <td>6638</td>\n",
       "      <td>Subscriber</td>\n",
       "      <td>1989</td>\n",
       "      <td>Other</td>\n",
       "      <td>No</td>\n",
       "      <td>30</td>\n",
       "    </tr>\n",
       "    <tr>\n",
       "      <th>4</th>\n",
       "      <td>1585</td>\n",
       "      <td>2019-02-28 23:54:18.549</td>\n",
       "      <td>2019-03-01 00:20:44.074</td>\n",
       "      <td>7.0</td>\n",
       "      <td>Frank H Ogawa Plaza</td>\n",
       "      <td>37.804562</td>\n",
       "      <td>-122.271738</td>\n",
       "      <td>222.0</td>\n",
       "      <td>10th Ave at E 15th St</td>\n",
       "      <td>37.792714</td>\n",
       "      <td>-122.248780</td>\n",
       "      <td>4898</td>\n",
       "      <td>Subscriber</td>\n",
       "      <td>1974</td>\n",
       "      <td>Male</td>\n",
       "      <td>Yes</td>\n",
       "      <td>45</td>\n",
       "    </tr>\n",
       "    <tr>\n",
       "      <th>5</th>\n",
       "      <td>1793</td>\n",
       "      <td>2019-02-28 23:49:58.632</td>\n",
       "      <td>2019-03-01 00:19:51.760</td>\n",
       "      <td>93.0</td>\n",
       "      <td>4th St at Mission Bay Blvd S</td>\n",
       "      <td>37.770407</td>\n",
       "      <td>-122.391198</td>\n",
       "      <td>323.0</td>\n",
       "      <td>Broadway at Kearny</td>\n",
       "      <td>37.798014</td>\n",
       "      <td>-122.405950</td>\n",
       "      <td>5200</td>\n",
       "      <td>Subscriber</td>\n",
       "      <td>1959</td>\n",
       "      <td>Male</td>\n",
       "      <td>No</td>\n",
       "      <td>60</td>\n",
       "    </tr>\n",
       "  </tbody>\n",
       "</table>\n",
       "</div>"
      ],
      "text/plain": [
       "   duration_sec              start_time                end_time  \\\n",
       "0         52185 2019-02-28 17:32:10.145 2019-03-01 08:01:55.975   \n",
       "2         61854 2019-02-28 12:13:13.218 2019-03-01 05:24:08.146   \n",
       "3         36490 2019-02-28 17:54:26.010 2019-03-01 04:02:36.842   \n",
       "4          1585 2019-02-28 23:54:18.549 2019-03-01 00:20:44.074   \n",
       "5          1793 2019-02-28 23:49:58.632 2019-03-01 00:19:51.760   \n",
       "\n",
       "  start_station_id                                start_station_name  \\\n",
       "0             21.0  Montgomery St BART Station (Market St at 2nd St)   \n",
       "2             86.0                           Market St at Dolores St   \n",
       "3            375.0                           Grove St at Masonic Ave   \n",
       "4              7.0                               Frank H Ogawa Plaza   \n",
       "5             93.0                      4th St at Mission Bay Blvd S   \n",
       "\n",
       "   start_station_latitude  start_station_longitude end_station_id  \\\n",
       "0               37.789625              -122.400811           13.0   \n",
       "2               37.769305              -122.426826            3.0   \n",
       "3               37.774836              -122.446546           70.0   \n",
       "4               37.804562              -122.271738          222.0   \n",
       "5               37.770407              -122.391198          323.0   \n",
       "\n",
       "                               end_station_name  end_station_latitude  \\\n",
       "0                Commercial St at Montgomery St             37.794231   \n",
       "2  Powell St BART Station (Market St at 4th St)             37.786375   \n",
       "3                        Central Ave at Fell St             37.773311   \n",
       "4                         10th Ave at E 15th St             37.792714   \n",
       "5                            Broadway at Kearny             37.798014   \n",
       "\n",
       "   end_station_longitude bike_id   user_type  member_birth_year member_gender  \\\n",
       "0            -122.402923    4902    Customer               1984          Male   \n",
       "2            -122.404904    5905    Customer               1972          Male   \n",
       "3            -122.444293    6638  Subscriber               1989         Other   \n",
       "4            -122.248780    4898  Subscriber               1974          Male   \n",
       "5            -122.405950    5200  Subscriber               1959          Male   \n",
       "\n",
       "  bike_share_for_all_trip  user_age  \n",
       "0                      No        35  \n",
       "2                      No        47  \n",
       "3                      No        30  \n",
       "4                     Yes        45  \n",
       "5                      No        60  "
      ]
     },
     "execution_count": 30,
     "metadata": {},
     "output_type": "execute_result"
    }
   ],
   "source": [
    "df_clean.head()"
   ]
  },
  {
   "cell_type": "markdown",
   "metadata": {},
   "source": [
    "#### Define: add a new column to calculate riding duration in minute for more readable graph & analyze"
   ]
  },
  {
   "cell_type": "markdown",
   "metadata": {},
   "source": [
    "#### Code"
   ]
  },
  {
   "cell_type": "code",
   "execution_count": 31,
   "metadata": {},
   "outputs": [],
   "source": [
    "df_clean['duration_minute'] = df_clean.duration_sec/60"
   ]
  },
  {
   "cell_type": "code",
   "execution_count": 32,
   "metadata": {},
   "outputs": [],
   "source": [
    "df_clean.duration_minute = df_clean.duration_minute.astype(int)"
   ]
  },
  {
   "cell_type": "markdown",
   "metadata": {},
   "source": [
    "#### Test"
   ]
  },
  {
   "cell_type": "code",
   "execution_count": 33,
   "metadata": {
    "scrolled": true
   },
   "outputs": [
    {
     "data": {
      "text/html": [
       "<div>\n",
       "<style scoped>\n",
       "    .dataframe tbody tr th:only-of-type {\n",
       "        vertical-align: middle;\n",
       "    }\n",
       "\n",
       "    .dataframe tbody tr th {\n",
       "        vertical-align: top;\n",
       "    }\n",
       "\n",
       "    .dataframe thead th {\n",
       "        text-align: right;\n",
       "    }\n",
       "</style>\n",
       "<table border=\"1\" class=\"dataframe\">\n",
       "  <thead>\n",
       "    <tr style=\"text-align: right;\">\n",
       "      <th></th>\n",
       "      <th>duration_sec</th>\n",
       "      <th>start_time</th>\n",
       "      <th>end_time</th>\n",
       "      <th>start_station_id</th>\n",
       "      <th>start_station_name</th>\n",
       "      <th>start_station_latitude</th>\n",
       "      <th>start_station_longitude</th>\n",
       "      <th>end_station_id</th>\n",
       "      <th>end_station_name</th>\n",
       "      <th>end_station_latitude</th>\n",
       "      <th>end_station_longitude</th>\n",
       "      <th>bike_id</th>\n",
       "      <th>user_type</th>\n",
       "      <th>member_birth_year</th>\n",
       "      <th>member_gender</th>\n",
       "      <th>bike_share_for_all_trip</th>\n",
       "      <th>user_age</th>\n",
       "      <th>duration_minute</th>\n",
       "    </tr>\n",
       "  </thead>\n",
       "  <tbody>\n",
       "    <tr>\n",
       "      <th>0</th>\n",
       "      <td>52185</td>\n",
       "      <td>2019-02-28 17:32:10.145</td>\n",
       "      <td>2019-03-01 08:01:55.975</td>\n",
       "      <td>21.0</td>\n",
       "      <td>Montgomery St BART Station (Market St at 2nd St)</td>\n",
       "      <td>37.789625</td>\n",
       "      <td>-122.400811</td>\n",
       "      <td>13.0</td>\n",
       "      <td>Commercial St at Montgomery St</td>\n",
       "      <td>37.794231</td>\n",
       "      <td>-122.402923</td>\n",
       "      <td>4902</td>\n",
       "      <td>Customer</td>\n",
       "      <td>1984</td>\n",
       "      <td>Male</td>\n",
       "      <td>No</td>\n",
       "      <td>35</td>\n",
       "      <td>869</td>\n",
       "    </tr>\n",
       "    <tr>\n",
       "      <th>2</th>\n",
       "      <td>61854</td>\n",
       "      <td>2019-02-28 12:13:13.218</td>\n",
       "      <td>2019-03-01 05:24:08.146</td>\n",
       "      <td>86.0</td>\n",
       "      <td>Market St at Dolores St</td>\n",
       "      <td>37.769305</td>\n",
       "      <td>-122.426826</td>\n",
       "      <td>3.0</td>\n",
       "      <td>Powell St BART Station (Market St at 4th St)</td>\n",
       "      <td>37.786375</td>\n",
       "      <td>-122.404904</td>\n",
       "      <td>5905</td>\n",
       "      <td>Customer</td>\n",
       "      <td>1972</td>\n",
       "      <td>Male</td>\n",
       "      <td>No</td>\n",
       "      <td>47</td>\n",
       "      <td>1030</td>\n",
       "    </tr>\n",
       "    <tr>\n",
       "      <th>3</th>\n",
       "      <td>36490</td>\n",
       "      <td>2019-02-28 17:54:26.010</td>\n",
       "      <td>2019-03-01 04:02:36.842</td>\n",
       "      <td>375.0</td>\n",
       "      <td>Grove St at Masonic Ave</td>\n",
       "      <td>37.774836</td>\n",
       "      <td>-122.446546</td>\n",
       "      <td>70.0</td>\n",
       "      <td>Central Ave at Fell St</td>\n",
       "      <td>37.773311</td>\n",
       "      <td>-122.444293</td>\n",
       "      <td>6638</td>\n",
       "      <td>Subscriber</td>\n",
       "      <td>1989</td>\n",
       "      <td>Other</td>\n",
       "      <td>No</td>\n",
       "      <td>30</td>\n",
       "      <td>608</td>\n",
       "    </tr>\n",
       "    <tr>\n",
       "      <th>4</th>\n",
       "      <td>1585</td>\n",
       "      <td>2019-02-28 23:54:18.549</td>\n",
       "      <td>2019-03-01 00:20:44.074</td>\n",
       "      <td>7.0</td>\n",
       "      <td>Frank H Ogawa Plaza</td>\n",
       "      <td>37.804562</td>\n",
       "      <td>-122.271738</td>\n",
       "      <td>222.0</td>\n",
       "      <td>10th Ave at E 15th St</td>\n",
       "      <td>37.792714</td>\n",
       "      <td>-122.248780</td>\n",
       "      <td>4898</td>\n",
       "      <td>Subscriber</td>\n",
       "      <td>1974</td>\n",
       "      <td>Male</td>\n",
       "      <td>Yes</td>\n",
       "      <td>45</td>\n",
       "      <td>26</td>\n",
       "    </tr>\n",
       "    <tr>\n",
       "      <th>5</th>\n",
       "      <td>1793</td>\n",
       "      <td>2019-02-28 23:49:58.632</td>\n",
       "      <td>2019-03-01 00:19:51.760</td>\n",
       "      <td>93.0</td>\n",
       "      <td>4th St at Mission Bay Blvd S</td>\n",
       "      <td>37.770407</td>\n",
       "      <td>-122.391198</td>\n",
       "      <td>323.0</td>\n",
       "      <td>Broadway at Kearny</td>\n",
       "      <td>37.798014</td>\n",
       "      <td>-122.405950</td>\n",
       "      <td>5200</td>\n",
       "      <td>Subscriber</td>\n",
       "      <td>1959</td>\n",
       "      <td>Male</td>\n",
       "      <td>No</td>\n",
       "      <td>60</td>\n",
       "      <td>29</td>\n",
       "    </tr>\n",
       "  </tbody>\n",
       "</table>\n",
       "</div>"
      ],
      "text/plain": [
       "   duration_sec              start_time                end_time  \\\n",
       "0         52185 2019-02-28 17:32:10.145 2019-03-01 08:01:55.975   \n",
       "2         61854 2019-02-28 12:13:13.218 2019-03-01 05:24:08.146   \n",
       "3         36490 2019-02-28 17:54:26.010 2019-03-01 04:02:36.842   \n",
       "4          1585 2019-02-28 23:54:18.549 2019-03-01 00:20:44.074   \n",
       "5          1793 2019-02-28 23:49:58.632 2019-03-01 00:19:51.760   \n",
       "\n",
       "  start_station_id                                start_station_name  \\\n",
       "0             21.0  Montgomery St BART Station (Market St at 2nd St)   \n",
       "2             86.0                           Market St at Dolores St   \n",
       "3            375.0                           Grove St at Masonic Ave   \n",
       "4              7.0                               Frank H Ogawa Plaza   \n",
       "5             93.0                      4th St at Mission Bay Blvd S   \n",
       "\n",
       "   start_station_latitude  start_station_longitude end_station_id  \\\n",
       "0               37.789625              -122.400811           13.0   \n",
       "2               37.769305              -122.426826            3.0   \n",
       "3               37.774836              -122.446546           70.0   \n",
       "4               37.804562              -122.271738          222.0   \n",
       "5               37.770407              -122.391198          323.0   \n",
       "\n",
       "                               end_station_name  end_station_latitude  \\\n",
       "0                Commercial St at Montgomery St             37.794231   \n",
       "2  Powell St BART Station (Market St at 4th St)             37.786375   \n",
       "3                        Central Ave at Fell St             37.773311   \n",
       "4                         10th Ave at E 15th St             37.792714   \n",
       "5                            Broadway at Kearny             37.798014   \n",
       "\n",
       "   end_station_longitude bike_id   user_type  member_birth_year member_gender  \\\n",
       "0            -122.402923    4902    Customer               1984          Male   \n",
       "2            -122.404904    5905    Customer               1972          Male   \n",
       "3            -122.444293    6638  Subscriber               1989         Other   \n",
       "4            -122.248780    4898  Subscriber               1974          Male   \n",
       "5            -122.405950    5200  Subscriber               1959          Male   \n",
       "\n",
       "  bike_share_for_all_trip  user_age  duration_minute  \n",
       "0                      No        35              869  \n",
       "2                      No        47             1030  \n",
       "3                      No        30              608  \n",
       "4                     Yes        45               26  \n",
       "5                      No        60               29  "
      ]
     },
     "execution_count": 33,
     "metadata": {},
     "output_type": "execute_result"
    }
   ],
   "source": [
    "df_clean.head()"
   ]
  },
  {
   "cell_type": "markdown",
   "metadata": {},
   "source": [
    "#### Define: add new columns to calculate riding data by month, day and hour. "
   ]
  },
  {
   "cell_type": "markdown",
   "metadata": {},
   "source": [
    "#### Code "
   ]
  },
  {
   "cell_type": "code",
   "execution_count": 34,
   "metadata": {},
   "outputs": [],
   "source": [
    "# create month column \n",
    "# https://pandas.pydata.org/pandas-docs/stable/reference/api/pandas.Series.dt.strftime.html\n",
    "\n",
    "df_clean['riding_month'] = df_clean.start_time.dt.strftime('%B')"
   ]
  },
  {
   "cell_type": "code",
   "execution_count": 35,
   "metadata": {},
   "outputs": [],
   "source": [
    "# create day column \n",
    "# https://pandas.pydata.org/pandas-docs/stable/reference/api/pandas.Series.dt.strftime.html\n",
    "\n",
    "df_clean['riding_day'] = df_clean.start_time.dt.strftime('%A')"
   ]
  },
  {
   "cell_type": "code",
   "execution_count": 36,
   "metadata": {},
   "outputs": [],
   "source": [
    "# create hour column \n",
    "# https://pandas.pydata.org/pandas-docs/stable/reference/api/pandas.Series.dt.strftime.html\n",
    "\n",
    "df_clean['riding_hour'] = df_clean.start_time.dt.strftime('%H')\n"
   ]
  },
  {
   "cell_type": "markdown",
   "metadata": {},
   "source": [
    "#### Test"
   ]
  },
  {
   "cell_type": "code",
   "execution_count": 37,
   "metadata": {
    "scrolled": true
   },
   "outputs": [
    {
     "data": {
      "text/html": [
       "<div>\n",
       "<style scoped>\n",
       "    .dataframe tbody tr th:only-of-type {\n",
       "        vertical-align: middle;\n",
       "    }\n",
       "\n",
       "    .dataframe tbody tr th {\n",
       "        vertical-align: top;\n",
       "    }\n",
       "\n",
       "    .dataframe thead th {\n",
       "        text-align: right;\n",
       "    }\n",
       "</style>\n",
       "<table border=\"1\" class=\"dataframe\">\n",
       "  <thead>\n",
       "    <tr style=\"text-align: right;\">\n",
       "      <th></th>\n",
       "      <th>duration_sec</th>\n",
       "      <th>start_time</th>\n",
       "      <th>end_time</th>\n",
       "      <th>start_station_id</th>\n",
       "      <th>start_station_name</th>\n",
       "      <th>start_station_latitude</th>\n",
       "      <th>start_station_longitude</th>\n",
       "      <th>end_station_id</th>\n",
       "      <th>end_station_name</th>\n",
       "      <th>end_station_latitude</th>\n",
       "      <th>...</th>\n",
       "      <th>bike_id</th>\n",
       "      <th>user_type</th>\n",
       "      <th>member_birth_year</th>\n",
       "      <th>member_gender</th>\n",
       "      <th>bike_share_for_all_trip</th>\n",
       "      <th>user_age</th>\n",
       "      <th>duration_minute</th>\n",
       "      <th>riding_month</th>\n",
       "      <th>riding_day</th>\n",
       "      <th>riding_hour</th>\n",
       "    </tr>\n",
       "  </thead>\n",
       "  <tbody>\n",
       "    <tr>\n",
       "      <th>50803</th>\n",
       "      <td>268</td>\n",
       "      <td>2019-02-21 18:43:46.852</td>\n",
       "      <td>2019-02-21 18:48:14.864</td>\n",
       "      <td>239.0</td>\n",
       "      <td>Bancroft Way at Telegraph Ave</td>\n",
       "      <td>37.868813</td>\n",
       "      <td>-122.258764</td>\n",
       "      <td>246.0</td>\n",
       "      <td>Berkeley Civic Center</td>\n",
       "      <td>37.869060</td>\n",
       "      <td>...</td>\n",
       "      <td>5785</td>\n",
       "      <td>Subscriber</td>\n",
       "      <td>1993</td>\n",
       "      <td>Other</td>\n",
       "      <td>No</td>\n",
       "      <td>26</td>\n",
       "      <td>4</td>\n",
       "      <td>February</td>\n",
       "      <td>Thursday</td>\n",
       "      <td>18</td>\n",
       "    </tr>\n",
       "    <tr>\n",
       "      <th>27415</th>\n",
       "      <td>586</td>\n",
       "      <td>2019-02-25 09:38:46.414</td>\n",
       "      <td>2019-02-25 09:48:33.322</td>\n",
       "      <td>67.0</td>\n",
       "      <td>San Francisco Caltrain Station 2  (Townsend St...</td>\n",
       "      <td>37.776639</td>\n",
       "      <td>-122.395526</td>\n",
       "      <td>25.0</td>\n",
       "      <td>Howard St at 2nd St</td>\n",
       "      <td>37.787522</td>\n",
       "      <td>...</td>\n",
       "      <td>6279</td>\n",
       "      <td>Subscriber</td>\n",
       "      <td>1989</td>\n",
       "      <td>Male</td>\n",
       "      <td>No</td>\n",
       "      <td>30</td>\n",
       "      <td>9</td>\n",
       "      <td>February</td>\n",
       "      <td>Monday</td>\n",
       "      <td>09</td>\n",
       "    </tr>\n",
       "    <tr>\n",
       "      <th>104370</th>\n",
       "      <td>825</td>\n",
       "      <td>2019-02-14 08:31:06.304</td>\n",
       "      <td>2019-02-14 08:44:52.052</td>\n",
       "      <td>116.0</td>\n",
       "      <td>Mississippi St at 17th St</td>\n",
       "      <td>37.764802</td>\n",
       "      <td>-122.394771</td>\n",
       "      <td>15.0</td>\n",
       "      <td>San Francisco Ferry Building (Harry Bridges Pl...</td>\n",
       "      <td>37.795392</td>\n",
       "      <td>...</td>\n",
       "      <td>5004</td>\n",
       "      <td>Subscriber</td>\n",
       "      <td>1988</td>\n",
       "      <td>Female</td>\n",
       "      <td>No</td>\n",
       "      <td>31</td>\n",
       "      <td>13</td>\n",
       "      <td>February</td>\n",
       "      <td>Thursday</td>\n",
       "      <td>08</td>\n",
       "    </tr>\n",
       "    <tr>\n",
       "      <th>28029</th>\n",
       "      <td>622</td>\n",
       "      <td>2019-02-25 08:58:09.918</td>\n",
       "      <td>2019-02-25 09:08:32.133</td>\n",
       "      <td>67.0</td>\n",
       "      <td>San Francisco Caltrain Station 2  (Townsend St...</td>\n",
       "      <td>37.776639</td>\n",
       "      <td>-122.395526</td>\n",
       "      <td>343.0</td>\n",
       "      <td>Bryant St at 2nd St</td>\n",
       "      <td>37.783172</td>\n",
       "      <td>...</td>\n",
       "      <td>1334</td>\n",
       "      <td>Subscriber</td>\n",
       "      <td>1982</td>\n",
       "      <td>Male</td>\n",
       "      <td>No</td>\n",
       "      <td>37</td>\n",
       "      <td>10</td>\n",
       "      <td>February</td>\n",
       "      <td>Monday</td>\n",
       "      <td>08</td>\n",
       "    </tr>\n",
       "    <tr>\n",
       "      <th>112725</th>\n",
       "      <td>663</td>\n",
       "      <td>2019-02-12 14:23:45.784</td>\n",
       "      <td>2019-02-12 14:34:49.222</td>\n",
       "      <td>16.0</td>\n",
       "      <td>Steuart St at Market St</td>\n",
       "      <td>37.794130</td>\n",
       "      <td>-122.394430</td>\n",
       "      <td>47.0</td>\n",
       "      <td>4th St at Harrison St</td>\n",
       "      <td>37.780955</td>\n",
       "      <td>...</td>\n",
       "      <td>6217</td>\n",
       "      <td>Subscriber</td>\n",
       "      <td>1976</td>\n",
       "      <td>Female</td>\n",
       "      <td>No</td>\n",
       "      <td>43</td>\n",
       "      <td>11</td>\n",
       "      <td>February</td>\n",
       "      <td>Tuesday</td>\n",
       "      <td>14</td>\n",
       "    </tr>\n",
       "    <tr>\n",
       "      <th>176565</th>\n",
       "      <td>245</td>\n",
       "      <td>2019-02-02 11:07:40.800</td>\n",
       "      <td>2019-02-02 11:11:45.865</td>\n",
       "      <td>34.0</td>\n",
       "      <td>Father Alfred E Boeddeker Park</td>\n",
       "      <td>37.783988</td>\n",
       "      <td>-122.412408</td>\n",
       "      <td>43.0</td>\n",
       "      <td>San Francisco Public Library (Grove St at Hyde...</td>\n",
       "      <td>37.778768</td>\n",
       "      <td>...</td>\n",
       "      <td>5299</td>\n",
       "      <td>Subscriber</td>\n",
       "      <td>1978</td>\n",
       "      <td>Male</td>\n",
       "      <td>No</td>\n",
       "      <td>41</td>\n",
       "      <td>4</td>\n",
       "      <td>February</td>\n",
       "      <td>Saturday</td>\n",
       "      <td>11</td>\n",
       "    </tr>\n",
       "    <tr>\n",
       "      <th>126807</th>\n",
       "      <td>617</td>\n",
       "      <td>2019-02-10 17:27:07.471</td>\n",
       "      <td>2019-02-10 17:37:25.446</td>\n",
       "      <td>59.0</td>\n",
       "      <td>S Van Ness Ave at Market St</td>\n",
       "      <td>37.774814</td>\n",
       "      <td>-122.418954</td>\n",
       "      <td>285.0</td>\n",
       "      <td>Webster St at O'Farrell St</td>\n",
       "      <td>37.783521</td>\n",
       "      <td>...</td>\n",
       "      <td>5235</td>\n",
       "      <td>Customer</td>\n",
       "      <td>1966</td>\n",
       "      <td>Male</td>\n",
       "      <td>No</td>\n",
       "      <td>53</td>\n",
       "      <td>10</td>\n",
       "      <td>February</td>\n",
       "      <td>Sunday</td>\n",
       "      <td>17</td>\n",
       "    </tr>\n",
       "    <tr>\n",
       "      <th>38853</th>\n",
       "      <td>1964</td>\n",
       "      <td>2019-02-23 10:35:46.728</td>\n",
       "      <td>2019-02-23 11:08:31.434</td>\n",
       "      <td>71.0</td>\n",
       "      <td>Broderick St at Oak St</td>\n",
       "      <td>37.773063</td>\n",
       "      <td>-122.439078</td>\n",
       "      <td>15.0</td>\n",
       "      <td>San Francisco Ferry Building (Harry Bridges Pl...</td>\n",
       "      <td>37.795392</td>\n",
       "      <td>...</td>\n",
       "      <td>5039</td>\n",
       "      <td>Customer</td>\n",
       "      <td>1988</td>\n",
       "      <td>Male</td>\n",
       "      <td>No</td>\n",
       "      <td>31</td>\n",
       "      <td>32</td>\n",
       "      <td>February</td>\n",
       "      <td>Saturday</td>\n",
       "      <td>10</td>\n",
       "    </tr>\n",
       "    <tr>\n",
       "      <th>2330</th>\n",
       "      <td>917</td>\n",
       "      <td>2019-02-28 18:03:24.916</td>\n",
       "      <td>2019-02-28 18:18:42.654</td>\n",
       "      <td>355.0</td>\n",
       "      <td>23rd St at Tennessee St</td>\n",
       "      <td>37.755367</td>\n",
       "      <td>-122.388795</td>\n",
       "      <td>17.0</td>\n",
       "      <td>Embarcadero BART Station (Beale St at Market St)</td>\n",
       "      <td>37.792251</td>\n",
       "      <td>...</td>\n",
       "      <td>6418</td>\n",
       "      <td>Subscriber</td>\n",
       "      <td>1992</td>\n",
       "      <td>Male</td>\n",
       "      <td>No</td>\n",
       "      <td>27</td>\n",
       "      <td>15</td>\n",
       "      <td>February</td>\n",
       "      <td>Thursday</td>\n",
       "      <td>18</td>\n",
       "    </tr>\n",
       "    <tr>\n",
       "      <th>143855</th>\n",
       "      <td>363</td>\n",
       "      <td>2019-02-07 14:06:34.982</td>\n",
       "      <td>2019-02-07 14:12:38.358</td>\n",
       "      <td>218.0</td>\n",
       "      <td>DeFremery Park</td>\n",
       "      <td>37.812331</td>\n",
       "      <td>-122.285171</td>\n",
       "      <td>7.0</td>\n",
       "      <td>Frank H Ogawa Plaza</td>\n",
       "      <td>37.804562</td>\n",
       "      <td>...</td>\n",
       "      <td>4874</td>\n",
       "      <td>Subscriber</td>\n",
       "      <td>1979</td>\n",
       "      <td>Male</td>\n",
       "      <td>Yes</td>\n",
       "      <td>40</td>\n",
       "      <td>6</td>\n",
       "      <td>February</td>\n",
       "      <td>Thursday</td>\n",
       "      <td>14</td>\n",
       "    </tr>\n",
       "    <tr>\n",
       "      <th>117515</th>\n",
       "      <td>1321</td>\n",
       "      <td>2019-02-11 21:08:47.662</td>\n",
       "      <td>2019-02-11 21:30:49.478</td>\n",
       "      <td>310.0</td>\n",
       "      <td>San Fernando St at 4th St</td>\n",
       "      <td>37.335885</td>\n",
       "      <td>-121.885660</td>\n",
       "      <td>357.0</td>\n",
       "      <td>2nd St at Julian St</td>\n",
       "      <td>37.341132</td>\n",
       "      <td>...</td>\n",
       "      <td>4021</td>\n",
       "      <td>Subscriber</td>\n",
       "      <td>1993</td>\n",
       "      <td>Male</td>\n",
       "      <td>Yes</td>\n",
       "      <td>26</td>\n",
       "      <td>22</td>\n",
       "      <td>February</td>\n",
       "      <td>Monday</td>\n",
       "      <td>21</td>\n",
       "    </tr>\n",
       "    <tr>\n",
       "      <th>68757</th>\n",
       "      <td>786</td>\n",
       "      <td>2019-02-19 21:06:35.271</td>\n",
       "      <td>2019-02-19 21:19:42.234</td>\n",
       "      <td>195.0</td>\n",
       "      <td>Bay Pl at Vernon St</td>\n",
       "      <td>37.812314</td>\n",
       "      <td>-122.260779</td>\n",
       "      <td>205.0</td>\n",
       "      <td>Miles Ave at Cavour St</td>\n",
       "      <td>37.838800</td>\n",
       "      <td>...</td>\n",
       "      <td>4863</td>\n",
       "      <td>Subscriber</td>\n",
       "      <td>1991</td>\n",
       "      <td>Female</td>\n",
       "      <td>No</td>\n",
       "      <td>28</td>\n",
       "      <td>13</td>\n",
       "      <td>February</td>\n",
       "      <td>Tuesday</td>\n",
       "      <td>21</td>\n",
       "    </tr>\n",
       "    <tr>\n",
       "      <th>172675</th>\n",
       "      <td>800</td>\n",
       "      <td>2019-02-03 14:57:54.133</td>\n",
       "      <td>2019-02-03 15:11:15.096</td>\n",
       "      <td>58.0</td>\n",
       "      <td>Market St at 10th St</td>\n",
       "      <td>37.776619</td>\n",
       "      <td>-122.417385</td>\n",
       "      <td>99.0</td>\n",
       "      <td>Folsom St at 15th St</td>\n",
       "      <td>37.767037</td>\n",
       "      <td>...</td>\n",
       "      <td>5315</td>\n",
       "      <td>Subscriber</td>\n",
       "      <td>1999</td>\n",
       "      <td>Male</td>\n",
       "      <td>No</td>\n",
       "      <td>20</td>\n",
       "      <td>13</td>\n",
       "      <td>February</td>\n",
       "      <td>Sunday</td>\n",
       "      <td>14</td>\n",
       "    </tr>\n",
       "    <tr>\n",
       "      <th>79482</th>\n",
       "      <td>599</td>\n",
       "      <td>2019-02-18 17:27:32.275</td>\n",
       "      <td>2019-02-18 17:37:31.413</td>\n",
       "      <td>285.0</td>\n",
       "      <td>Webster St at O'Farrell St</td>\n",
       "      <td>37.783521</td>\n",
       "      <td>-122.431158</td>\n",
       "      <td>5.0</td>\n",
       "      <td>Powell St BART Station (Market St at 5th St)</td>\n",
       "      <td>37.783899</td>\n",
       "      <td>...</td>\n",
       "      <td>6253</td>\n",
       "      <td>Subscriber</td>\n",
       "      <td>1994</td>\n",
       "      <td>Female</td>\n",
       "      <td>No</td>\n",
       "      <td>25</td>\n",
       "      <td>9</td>\n",
       "      <td>February</td>\n",
       "      <td>Monday</td>\n",
       "      <td>17</td>\n",
       "    </tr>\n",
       "    <tr>\n",
       "      <th>47771</th>\n",
       "      <td>506</td>\n",
       "      <td>2019-02-22 08:29:55.089</td>\n",
       "      <td>2019-02-22 08:38:21.618</td>\n",
       "      <td>78.0</td>\n",
       "      <td>Folsom St at 9th St</td>\n",
       "      <td>37.773717</td>\n",
       "      <td>-122.411647</td>\n",
       "      <td>30.0</td>\n",
       "      <td>San Francisco Caltrain (Townsend St at 4th St)</td>\n",
       "      <td>37.776598</td>\n",
       "      <td>...</td>\n",
       "      <td>2722</td>\n",
       "      <td>Subscriber</td>\n",
       "      <td>1995</td>\n",
       "      <td>Female</td>\n",
       "      <td>No</td>\n",
       "      <td>24</td>\n",
       "      <td>8</td>\n",
       "      <td>February</td>\n",
       "      <td>Friday</td>\n",
       "      <td>08</td>\n",
       "    </tr>\n",
       "  </tbody>\n",
       "</table>\n",
       "<p>15 rows × 21 columns</p>\n",
       "</div>"
      ],
      "text/plain": [
       "        duration_sec              start_time                end_time  \\\n",
       "50803            268 2019-02-21 18:43:46.852 2019-02-21 18:48:14.864   \n",
       "27415            586 2019-02-25 09:38:46.414 2019-02-25 09:48:33.322   \n",
       "104370           825 2019-02-14 08:31:06.304 2019-02-14 08:44:52.052   \n",
       "28029            622 2019-02-25 08:58:09.918 2019-02-25 09:08:32.133   \n",
       "112725           663 2019-02-12 14:23:45.784 2019-02-12 14:34:49.222   \n",
       "176565           245 2019-02-02 11:07:40.800 2019-02-02 11:11:45.865   \n",
       "126807           617 2019-02-10 17:27:07.471 2019-02-10 17:37:25.446   \n",
       "38853           1964 2019-02-23 10:35:46.728 2019-02-23 11:08:31.434   \n",
       "2330             917 2019-02-28 18:03:24.916 2019-02-28 18:18:42.654   \n",
       "143855           363 2019-02-07 14:06:34.982 2019-02-07 14:12:38.358   \n",
       "117515          1321 2019-02-11 21:08:47.662 2019-02-11 21:30:49.478   \n",
       "68757            786 2019-02-19 21:06:35.271 2019-02-19 21:19:42.234   \n",
       "172675           800 2019-02-03 14:57:54.133 2019-02-03 15:11:15.096   \n",
       "79482            599 2019-02-18 17:27:32.275 2019-02-18 17:37:31.413   \n",
       "47771            506 2019-02-22 08:29:55.089 2019-02-22 08:38:21.618   \n",
       "\n",
       "       start_station_id                                 start_station_name  \\\n",
       "50803             239.0                      Bancroft Way at Telegraph Ave   \n",
       "27415              67.0  San Francisco Caltrain Station 2  (Townsend St...   \n",
       "104370            116.0                          Mississippi St at 17th St   \n",
       "28029              67.0  San Francisco Caltrain Station 2  (Townsend St...   \n",
       "112725             16.0                            Steuart St at Market St   \n",
       "176565             34.0                     Father Alfred E Boeddeker Park   \n",
       "126807             59.0                        S Van Ness Ave at Market St   \n",
       "38853              71.0                             Broderick St at Oak St   \n",
       "2330              355.0                            23rd St at Tennessee St   \n",
       "143855            218.0                                     DeFremery Park   \n",
       "117515            310.0                          San Fernando St at 4th St   \n",
       "68757             195.0                                Bay Pl at Vernon St   \n",
       "172675             58.0                               Market St at 10th St   \n",
       "79482             285.0                         Webster St at O'Farrell St   \n",
       "47771              78.0                                Folsom St at 9th St   \n",
       "\n",
       "        start_station_latitude  start_station_longitude end_station_id  \\\n",
       "50803                37.868813              -122.258764          246.0   \n",
       "27415                37.776639              -122.395526           25.0   \n",
       "104370               37.764802              -122.394771           15.0   \n",
       "28029                37.776639              -122.395526          343.0   \n",
       "112725               37.794130              -122.394430           47.0   \n",
       "176565               37.783988              -122.412408           43.0   \n",
       "126807               37.774814              -122.418954          285.0   \n",
       "38853                37.773063              -122.439078           15.0   \n",
       "2330                 37.755367              -122.388795           17.0   \n",
       "143855               37.812331              -122.285171            7.0   \n",
       "117515               37.335885              -121.885660          357.0   \n",
       "68757                37.812314              -122.260779          205.0   \n",
       "172675               37.776619              -122.417385           99.0   \n",
       "79482                37.783521              -122.431158            5.0   \n",
       "47771                37.773717              -122.411647           30.0   \n",
       "\n",
       "                                         end_station_name  \\\n",
       "50803                               Berkeley Civic Center   \n",
       "27415                                 Howard St at 2nd St   \n",
       "104370  San Francisco Ferry Building (Harry Bridges Pl...   \n",
       "28029                                 Bryant St at 2nd St   \n",
       "112725                              4th St at Harrison St   \n",
       "176565  San Francisco Public Library (Grove St at Hyde...   \n",
       "126807                         Webster St at O'Farrell St   \n",
       "38853   San Francisco Ferry Building (Harry Bridges Pl...   \n",
       "2330     Embarcadero BART Station (Beale St at Market St)   \n",
       "143855                                Frank H Ogawa Plaza   \n",
       "117515                                2nd St at Julian St   \n",
       "68757                              Miles Ave at Cavour St   \n",
       "172675                               Folsom St at 15th St   \n",
       "79482        Powell St BART Station (Market St at 5th St)   \n",
       "47771      San Francisco Caltrain (Townsend St at 4th St)   \n",
       "\n",
       "        end_station_latitude  ...  bike_id   user_type member_birth_year  \\\n",
       "50803              37.869060  ...     5785  Subscriber              1993   \n",
       "27415              37.787522  ...     6279  Subscriber              1989   \n",
       "104370             37.795392  ...     5004  Subscriber              1988   \n",
       "28029              37.783172  ...     1334  Subscriber              1982   \n",
       "112725             37.780955  ...     6217  Subscriber              1976   \n",
       "176565             37.778768  ...     5299  Subscriber              1978   \n",
       "126807             37.783521  ...     5235    Customer              1966   \n",
       "38853              37.795392  ...     5039    Customer              1988   \n",
       "2330               37.792251  ...     6418  Subscriber              1992   \n",
       "143855             37.804562  ...     4874  Subscriber              1979   \n",
       "117515             37.341132  ...     4021  Subscriber              1993   \n",
       "68757              37.838800  ...     4863  Subscriber              1991   \n",
       "172675             37.767037  ...     5315  Subscriber              1999   \n",
       "79482              37.783899  ...     6253  Subscriber              1994   \n",
       "47771              37.776598  ...     2722  Subscriber              1995   \n",
       "\n",
       "        member_gender bike_share_for_all_trip user_age  duration_minute  \\\n",
       "50803           Other                      No       26                4   \n",
       "27415            Male                      No       30                9   \n",
       "104370         Female                      No       31               13   \n",
       "28029            Male                      No       37               10   \n",
       "112725         Female                      No       43               11   \n",
       "176565           Male                      No       41                4   \n",
       "126807           Male                      No       53               10   \n",
       "38853            Male                      No       31               32   \n",
       "2330             Male                      No       27               15   \n",
       "143855           Male                     Yes       40                6   \n",
       "117515           Male                     Yes       26               22   \n",
       "68757          Female                      No       28               13   \n",
       "172675           Male                      No       20               13   \n",
       "79482          Female                      No       25                9   \n",
       "47771          Female                      No       24                8   \n",
       "\n",
       "        riding_month riding_day riding_hour  \n",
       "50803       February   Thursday          18  \n",
       "27415       February     Monday          09  \n",
       "104370      February   Thursday          08  \n",
       "28029       February     Monday          08  \n",
       "112725      February    Tuesday          14  \n",
       "176565      February   Saturday          11  \n",
       "126807      February     Sunday          17  \n",
       "38853       February   Saturday          10  \n",
       "2330        February   Thursday          18  \n",
       "143855      February   Thursday          14  \n",
       "117515      February     Monday          21  \n",
       "68757       February    Tuesday          21  \n",
       "172675      February     Sunday          14  \n",
       "79482       February     Monday          17  \n",
       "47771       February     Friday          08  \n",
       "\n",
       "[15 rows x 21 columns]"
      ]
     },
     "execution_count": 37,
     "metadata": {},
     "output_type": "execute_result"
    }
   ],
   "source": [
    "df_clean.sample(15)"
   ]
  },
  {
   "cell_type": "code",
   "execution_count": 38,
   "metadata": {
    "scrolled": true
   },
   "outputs": [
    {
     "data": {
      "text/plain": [
       "February    174960\n",
       "Name: riding_month, dtype: int64"
      ]
     },
     "execution_count": 38,
     "metadata": {},
     "output_type": "execute_result"
    }
   ],
   "source": [
    "df_clean.riding_month.value_counts()"
   ]
  },
  {
   "cell_type": "code",
   "execution_count": 39,
   "metadata": {},
   "outputs": [],
   "source": [
    "# Save Clean data into a new file. \n",
    "\n",
    "df_clean.to_csv('fordgobike_clean.csv', index = False)"
   ]
  },
  {
   "cell_type": "markdown",
   "metadata": {},
   "source": [
    "### What is the structure of your dataset?\n",
    "\n",
    "> Original data set contains 16 different variable data about 180000 bike riding record. These records include data for February 2019. There are 16 different types of variables for each ride related with ride duration, stations & user. And also I've created some extra variables from existing data for better insights such as user age, riding month/day/hour \n",
    "\n",
    "### What is/are the main feature(s) of interest in your dataset?\n",
    "\n",
    "> One of the features I care about will be which day of the week and what time of day the demand is high or low. Thus, different pricing and campaigns can be produced according to that time period. In addition, I would like to analyze the population segment where demand is high and low by looking at gender ,age distributions and customer type. Thus, we can understand more clearly who should be addressed in marketing / advertising activities. \n",
    "\n",
    "### What features in the dataset do you think will help support your investigation into your feature(s) of interest?\n",
    "\n",
    "> I will benefit a lot from the day,hour and duration data. In addition, gender, age & user_type will be features that I will use to classify demand. I will also benefit from the station usage data."
   ]
  },
  {
   "cell_type": "markdown",
   "metadata": {},
   "source": [
    "## Univariate Exploration\n",
    "\n",
    "> In this section, I will investigate distributions of individual variables.  "
   ]
  },
  {
   "cell_type": "code",
   "execution_count": 172,
   "metadata": {
    "scrolled": true
   },
   "outputs": [
    {
     "data": {
      "image/png": "[encoded data removed]",
      "text/plain": [
       "<Figure size 576x360 with 1 Axes>"
      ]
     },
     "metadata": {
      "needs_background": "light"
     },
     "output_type": "display_data"
    }
   ],
   "source": [
    "# riding distrubition by week days\n",
    "\n",
    "plt.rcParams['figure.figsize'] = 8, 5\n",
    "\n",
    "days = ['Monday', 'Tuesday', 'Wednesday', 'Thursday', 'Friday', 'Saturday', 'Sunday']\n",
    "color_base = sb.color_palette()[9]\n",
    "sb.countplot(data=df_clean,x='riding_day',color=color_base , order=days )\n",
    "plt.ylabel('riding day')\n",
    "plt.xlabel('Total Number of Trips')\n",
    "\n",
    "plt.show()\n"
   ]
  },
  {
   "cell_type": "markdown",
   "metadata": {},
   "source": [
    "Thursday & Tuesday are the most popular days. Monday,wednesday and friday counts are very close. But weekend days are obvioulsy lower than working days. \n",
    "\n",
    "We can say that the system is used more intensely during working days. We can work on different campaigns to increase usage on the weekend."
   ]
  },
  {
   "cell_type": "code",
   "execution_count": 41,
   "metadata": {},
   "outputs": [],
   "source": [
    "#convert riding_hour from str to int \n",
    "df_clean.riding_hour = df_clean.riding_hour.astype(int)"
   ]
  },
  {
   "cell_type": "code",
   "execution_count": 42,
   "metadata": {
    "scrolled": true
   },
   "outputs": [
    {
     "data": {
      "image/png": "[encoded data removed]",
      "text/plain": [
       "<Figure size 576x360 with 1 Axes>"
      ]
     },
     "metadata": {
      "needs_background": "light"
     },
     "output_type": "display_data"
    }
   ],
   "source": [
    "# riding distrubition by hours\n",
    "\n",
    "# type_order = df_clean.riding_hour.value_counts().index # order from higher to lower\n",
    "sb.countplot(data=df_clean,x=df_clean.riding_hour,color=color_base)\n",
    "plt.xlabel('ride hour of day')\n",
    "plt.ylabel('number of trips')\n",
    "plt.show()"
   ]
  },
  {
   "cell_type": "markdown",
   "metadata": {},
   "source": [
    "The histogram above is similar to a conventional workday traffic density data. It is clearly seen that there are peak hours in the system at the start (08-09) and the end (17-18) hours."
   ]
  },
  {
   "cell_type": "code",
   "execution_count": 43,
   "metadata": {
    "scrolled": true
   },
   "outputs": [
    {
     "data": {
      "image/png": "[encoded data removed]",
      "text/plain": [
       "<Figure size 576x360 with 1 Axes>"
      ]
     },
     "metadata": {
      "needs_background": "light"
     },
     "output_type": "display_data"
    }
   ],
   "source": [
    "# trip durations in minutes\n",
    "\n",
    "plt.hist(data = df_clean, x = 'duration_minute',color=color_base)\n",
    "plt.show()"
   ]
  },
  {
   "cell_type": "markdown",
   "metadata": {},
   "source": [
    "with default parameters we cant see real distrubutions of data. There are some outliers. We should edit bin edges to remove that effect. "
   ]
  },
  {
   "cell_type": "code",
   "execution_count": 44,
   "metadata": {},
   "outputs": [
    {
     "data": {
      "text/plain": [
       "count    174960.000000\n",
       "mean         11.249943\n",
       "std          27.374744\n",
       "min           1.000000\n",
       "25%           5.000000\n",
       "50%           8.000000\n",
       "75%          13.000000\n",
       "max        1409.000000\n",
       "Name: duration_minute, dtype: float64"
      ]
     },
     "execution_count": 44,
     "metadata": {},
     "output_type": "execute_result"
    }
   ],
   "source": [
    "df_clean.duration_minute.describe()"
   ]
  },
  {
   "cell_type": "code",
   "execution_count": 45,
   "metadata": {
    "scrolled": true
   },
   "outputs": [
    {
     "data": {
      "text/plain": [
       "count    174960.000000\n",
       "mean         11.249943\n",
       "std          27.374744\n",
       "min           1.000000\n",
       "50%           8.000000\n",
       "99%          53.000000\n",
       "max        1409.000000\n",
       "Name: duration_minute, dtype: float64"
      ]
     },
     "execution_count": 45,
     "metadata": {},
     "output_type": "execute_result"
    }
   ],
   "source": [
    "# chech for 99th percentile to define bin edges \n",
    "df_clean.duration_minute.describe(percentiles=[.99])"
   ]
  },
  {
   "cell_type": "code",
   "execution_count": 46,
   "metadata": {
    "scrolled": false
   },
   "outputs": [
    {
     "data": {
      "image/png": "[encoded data removed]",
      "text/plain": [
       "<Figure size 576x360 with 1 Axes>"
      ]
     },
     "metadata": {
      "needs_background": "light"
     },
     "output_type": "display_data"
    }
   ],
   "source": [
    "#trip durations in minutes\n",
    "\n",
    "bin_edges = np.arange(0, 55,1)\n",
    "plt.hist(data=df_clean, x='duration_minute', bins=bin_edges,color=color_base)\n",
    "\n",
    "plt.xlabel('Trip Duration in Minute')\n",
    "plt.ylabel('number of trips')\n",
    "plt.show()"
   ]
  },
  {
   "cell_type": "markdown",
   "metadata": {},
   "source": [
    "99% of the trips have times under 55 minutes. Therefore, we can clear outlivers greater than this value. In addition, the vast majority of them seem to have times between 5 and 10 minutes. It corresponds to an average usage of 11 minutes."
   ]
  },
  {
   "cell_type": "code",
   "execution_count": 47,
   "metadata": {},
   "outputs": [
    {
     "name": "stdout",
     "output_type": "stream",
     "text": [
      "<class 'pandas.core.frame.DataFrame'>\n",
      "Int64Index: 173377 entries, 4 to 183411\n",
      "Data columns (total 21 columns):\n",
      " #   Column                   Non-Null Count   Dtype         \n",
      "---  ------                   --------------   -----         \n",
      " 0   duration_sec             173377 non-null  int64         \n",
      " 1   start_time               173377 non-null  datetime64[ns]\n",
      " 2   end_time                 173377 non-null  datetime64[ns]\n",
      " 3   start_station_id         173377 non-null  object        \n",
      " 4   start_station_name       173187 non-null  object        \n",
      " 5   start_station_latitude   173377 non-null  float64       \n",
      " 6   start_station_longitude  173377 non-null  float64       \n",
      " 7   end_station_id           173377 non-null  object        \n",
      " 8   end_station_name         173187 non-null  object        \n",
      " 9   end_station_latitude     173377 non-null  float64       \n",
      " 10  end_station_longitude    173377 non-null  float64       \n",
      " 11  bike_id                  173377 non-null  object        \n",
      " 12  user_type                173377 non-null  category      \n",
      " 13  member_birth_year        173377 non-null  int32         \n",
      " 14  member_gender            173377 non-null  category      \n",
      " 15  bike_share_for_all_trip  173377 non-null  object        \n",
      " 16  user_age                 173377 non-null  int32         \n",
      " 17  duration_minute          173377 non-null  int32         \n",
      " 18  riding_month             173377 non-null  object        \n",
      " 19  riding_day               173377 non-null  object        \n",
      " 20  riding_hour              173377 non-null  int32         \n",
      "dtypes: category(2), datetime64[ns](2), float64(4), int32(4), int64(1), object(8)\n",
      "memory usage: 24.1+ MB\n"
     ]
    }
   ],
   "source": [
    "# remove outliers for duration_minute\n",
    "\n",
    "df_clean = df_clean.query('duration_minute <= 55')\n",
    "df_clean.info()"
   ]
  },
  {
   "cell_type": "code",
   "execution_count": 48,
   "metadata": {
    "scrolled": false
   },
   "outputs": [
    {
     "data": {
      "image/png": "[encoded data removed]",
      "text/plain": [
       "<Figure size 576x360 with 1 Axes>"
      ]
     },
     "metadata": {
      "needs_background": "light"
     },
     "output_type": "display_data"
    }
   ],
   "source": [
    "# gender distrubution \n",
    "\n",
    "sb.countplot(data=df_clean, x='member_gender', color=color_base);\n",
    "plt.xlabel('Gender');\n",
    "plt.ylabel('Number Of Trips');\n",
    "plt.title('gender distrubution');\n"
   ]
  },
  {
   "cell_type": "code",
   "execution_count": 49,
   "metadata": {
    "scrolled": false
   },
   "outputs": [
    {
     "data": {
      "image/png": "[encoded data removed]",
      "text/plain": [
       "<Figure size 576x360 with 1 Axes>"
      ]
     },
     "metadata": {},
     "output_type": "display_data"
    }
   ],
   "source": [
    "# pie chart & percentage calculation for gender dist \n",
    "# https://stackoverflow.com/questions/6170246/how-do-i-use-matplotlib-autopct#:~:text=autopct%20enables%20you%20to%20display,set%20to%20the%20string%20'%25.\n",
    "\n",
    "gender_dist = df_clean.member_gender.value_counts()\n",
    "plt.title('Distrubution by Gender')\n",
    "plt.pie(gender_dist,labels=gender_dist.index, autopct= '%1.2f%%',colors=['c','green','y']);\n"
   ]
  },
  {
   "cell_type": "markdown",
   "metadata": {},
   "source": [
    "\n",
    "The vast majority of users are male. Male with a very high rate of 74%.  "
   ]
  },
  {
   "cell_type": "code",
   "execution_count": 50,
   "metadata": {},
   "outputs": [
    {
     "data": {
      "text/plain": [
       "count    173377.000000\n",
       "mean         34.118251\n",
       "std           9.873658\n",
       "min          18.000000\n",
       "25%          27.000000\n",
       "50%          32.000000\n",
       "75%          39.000000\n",
       "max          85.000000\n",
       "Name: user_age, dtype: float64"
      ]
     },
     "execution_count": 50,
     "metadata": {},
     "output_type": "execute_result"
    }
   ],
   "source": [
    "# Age distrubution. Check descriptive stats to define bins. \n",
    "\n",
    "df_clean.user_age.describe()"
   ]
  },
  {
   "cell_type": "code",
   "execution_count": 51,
   "metadata": {},
   "outputs": [
    {
     "data": {
      "text/plain": [
       "count    173377.000000\n",
       "mean         34.118251\n",
       "std           9.873658\n",
       "min          18.000000\n",
       "50%          32.000000\n",
       "99%          63.000000\n",
       "max          85.000000\n",
       "Name: user_age, dtype: float64"
      ]
     },
     "execution_count": 51,
     "metadata": {},
     "output_type": "execute_result"
    }
   ],
   "source": [
    "# Age distrubution , 99 percentile \n",
    "\n",
    "df_clean.user_age.describe(percentiles=[.99])"
   ]
  },
  {
   "cell_type": "code",
   "execution_count": 52,
   "metadata": {
    "scrolled": true
   },
   "outputs": [
    {
     "data": {
      "image/png": "[encoded data removed]",
      "text/plain": [
       "<Figure size 576x360 with 1 Axes>"
      ]
     },
     "metadata": {
      "needs_background": "light"
     },
     "output_type": "display_data"
    }
   ],
   "source": [
    "# Age distrubution \n",
    "\n",
    "bin_edges = np.arange(0, 65, 5)\n",
    "plt.hist(data=df_clean,x='user_age',bins = bin_edges,color=color_base)\n",
    "plt.title(\" Distrubution by User Age\")\n",
    "plt.xlabel('Age of users')\n",
    "plt.ylabel('Number of Trips');"
   ]
  },
  {
   "cell_type": "markdown",
   "metadata": {},
   "source": [
    "The average age is 34. The vast majority of users fall in the 25-35 age bracket. We can say that the age range in which the working population is predominant. In fact, we can say that the usage rate peak during working hours confirms this data."
   ]
  },
  {
   "cell_type": "code",
   "execution_count": 53,
   "metadata": {
    "scrolled": true
   },
   "outputs": [
    {
     "data": {
      "image/png": "[encoded data removed]",
      "text/plain": [
       "<Figure size 576x360 with 1 Axes>"
      ]
     },
     "metadata": {
      "needs_background": "light"
     },
     "output_type": "display_data"
    }
   ],
   "source": [
    "# user type \n",
    "\n",
    "sb.countplot(data=df_clean,x=df_clean.user_type,color=color_base);"
   ]
  },
  {
   "cell_type": "markdown",
   "metadata": {},
   "source": [
    "Vast majority of trips are made by subscribers. "
   ]
  },
  {
   "cell_type": "markdown",
   "metadata": {},
   "source": [
    "### Discuss the distribution(s) of your variable(s) of interest. Were there any unusual points? Did you need to perform any transformations?\n",
    "\n",
    "> I did not encounter such a big surprise. I think the cleaning phase has been efficient. I detected and cleaned outliers for the Duration variable. Again, I had to examine stats in detail to determine the correct bin edge for the age variable. Finally, I was able to create the chart correctly by making the data type int in the hour variable.\n",
    "\n",
    "### Of the features you investigated, were there any unusual distributions? Did you perform any operations on the data to tidy, adjust, or change the form of the data? If so, why did you do this?\n",
    "\n",
    "> When I visualized the trip time data, I can say that it was a surprise at first. a single long bar appeared and there was no distribution of data that I could interpret. Using the describe method for detailed analysis and evaluating the percentile values, I created a histogram again, determining the correct bin edges, and a very clear data distribution emerged. And then I cleared outlier data."
   ]
  },
  {
   "cell_type": "markdown",
   "metadata": {},
   "source": [
    "## Bivariate Exploration\n",
    "\n",
    "> In this section, I'll investigate relationships between pairs of variables in \n",
    "dataset.  "
   ]
  },
  {
   "cell_type": "code",
   "execution_count": 54,
   "metadata": {
    "scrolled": true
   },
   "outputs": [
    {
     "data": {
      "image/png": "[encoded data removed]",
      "text/plain": [
       "<Figure size 576x360 with 1 Axes>"
      ]
     },
     "metadata": {
      "needs_background": "light"
     },
     "output_type": "display_data"
    }
   ],
   "source": [
    "# Trip Duration -- Customer VS Subscriber \n",
    "\n",
    "sb.violinplot(data=df_clean, x='user_type', y='duration_minute', color=color_base);\n",
    "plt.xlabel('User Type');\n",
    "plt.ylabel('Duration in Minute');"
   ]
  },
  {
   "cell_type": "markdown",
   "metadata": {},
   "source": [
    "When we look at the travel time distribution as customer vs subscriber, a clear view emerges. As can be seen clearly from the graphs, the distribution of subscribers is spread over a narrower band. In other words, subscribers make shorter and more focused journeys than customers. In contrast, customers are more diverse in distribution, meaning they usually rent bikes for longer periods of time."
   ]
  },
  {
   "cell_type": "code",
   "execution_count": 55,
   "metadata": {
    "scrolled": false
   },
   "outputs": [
    {
     "data": {
      "image/png": "[encoded data removed]",
      "text/plain": [
       "<Figure size 864x360 with 1 Axes>"
      ]
     },
     "metadata": {
      "needs_background": "light"
     },
     "output_type": "display_data"
    }
   ],
   "source": [
    "# Daily Total Usage -- Customer VS Subscriber \n",
    "plt.figure(figsize=(12, 5))\n",
    "\n",
    "df_clean_user_daily = df_clean.groupby(['riding_day', 'user_type']).size().reset_index()\n",
    "weekday = ['Monday', 'Tuesday', 'Wednesday', 'Thursday', 'Friday', 'Saturday', 'Sunday']\n",
    "\n",
    "sb.pointplot(data=df_clean_user_daily,x='riding_day',y=0,hue='user_type',order=weekday);\n",
    "\n",
    "plt.title('Daily Usage by User Type')\n",
    "plt.xlabel('days')\n",
    "plt.ylabel('Number of Trips');\n",
    "\n"
   ]
  },
  {
   "cell_type": "markdown",
   "metadata": {},
   "source": [
    "As we can see from the graph, customers have lower usage numbers in terms of volume. But when we look at the daily changes, customers provide a more stable and constant usage from day to day. Subscribers, on the other hand, show heavy use on weekdays, while the intensity of use at weekends drops drastically."
   ]
  },
  {
   "cell_type": "code",
   "execution_count": 58,
   "metadata": {
    "scrolled": true
   },
   "outputs": [
    {
     "data": {
      "image/png": "[encoded data removed]",
      "text/plain": [
       "<Figure size 864x360 with 1 Axes>"
      ]
     },
     "metadata": {
      "needs_background": "light"
     },
     "output_type": "display_data"
    }
   ],
   "source": [
    "# Hour of Day Usage - Customer VS Subscriber \n",
    "\n",
    "plt.figure(figsize=(12, 5))\n",
    "sb.countplot(data=df_clean, x='riding_hour', hue='user_type');\n",
    "plt.xlabel('Hour of Day');\n",
    "plt.ylabel('Number Of Trips');"
   ]
  },
  {
   "cell_type": "markdown",
   "metadata": {},
   "source": [
    "We confirm the heavy use of subscribers in rush hours with this graph. We can say that there is a similar pattern in customers. They seem to use it more intensely in the afternoon."
   ]
  },
  {
   "cell_type": "code",
   "execution_count": 77,
   "metadata": {},
   "outputs": [
    {
     "data": {
      "image/png": "[encoded data removed]",
      "text/plain": [
       "<Figure size 1440x360 with 2 Axes>"
      ]
     },
     "metadata": {
      "needs_background": "light"
     },
     "output_type": "display_data"
    }
   ],
   "source": [
    "# Usage by Age -- Customer VS Subscriber \n",
    "\n",
    "\n",
    "graph = sb.catplot(data = df_clean, x = 'user_age', col='user_type', kind='count', sharey = False, color = color_base, height=5,aspect=2)\n",
    "\n",
    "graph.set_axis_labels('User Age', 'Number of Trips')\n",
    "graph.set_titles('{col_name}')\n",
    "\n",
    "graph.fig.suptitle('Customers VS Subscribers Usage by Ages', y=1.05, fontsize=16, fontweight='bold');\n",
    "graph.set_xticklabels(rotation=75);"
   ]
  },
  {
   "cell_type": "markdown",
   "metadata": {},
   "source": [
    "It is observed that the use of the younger population is more intense in both groups. While the peak is around 32 for customers, there are two peaks around 25 and 31 for subscribers. The subscriber user group shows a wider distribution over the age of fiftie.\n",
    "\n"
   ]
  },
  {
   "cell_type": "code",
   "execution_count": 63,
   "metadata": {},
   "outputs": [
    {
     "data": {
      "image/png": "[encoded data removed]",
      "text/plain": [
       "<Figure size 576x360 with 1 Axes>"
      ]
     },
     "metadata": {
      "needs_background": "light"
     },
     "output_type": "display_data"
    }
   ],
   "source": [
    "# User age by weekdays \n",
    "\n",
    "sb.boxplot(data=df_clean, x='riding_day', y='user_age', color=color_base,order=weekday);\n",
    "plt.xlabel('Day of Week');\n",
    "plt.ylabel('Member Age');\n"
   ]
  },
  {
   "cell_type": "markdown",
   "metadata": {},
   "source": [
    "Those who use weekdays are slightly older. This is another graphic that confirms that the working population on weekdays use it more intensively."
   ]
  },
  {
   "cell_type": "code",
   "execution_count": 76,
   "metadata": {
    "scrolled": false
   },
   "outputs": [
    {
     "data": {
      "image/png": "[encoded data removed]",
      "text/plain": [
       "<Figure size 576x360 with 1 Axes>"
      ]
     },
     "metadata": {
      "needs_background": "light"
     },
     "output_type": "display_data"
    }
   ],
   "source": [
    "# Daily Average Duration \n",
    "\n",
    "sb.barplot(data=df_clean, x='riding_day', y='duration_minute', color=color_base,order=weekday);\n",
    "plt.xlabel('Weekday');\n",
    "plt.ylabel('Average Duration in Minute');"
   ]
  },
  {
   "cell_type": "markdown",
   "metadata": {},
   "source": [
    "Although the number of weekend uses is decreasing, the average usage time per trip is increasing."
   ]
  },
  {
   "cell_type": "markdown",
   "metadata": {},
   "source": [
    "### Talk about some of the relationships you observed in this part of the investigation. How did the feature(s) of interest vary with other features in the dataset?\n",
    "\n",
    "> When we included the user type in the analysis, I observed that there were different sets of behavior between the two groups. Although the subcribers are shorter, they make a much larger number of trips. Also, subscribers make more trips on weekdays than on weekends. All these data show that subscribers are generally from the working segment and are used for transportation purposes. The hourly usage graph also confirms this inference. Especially during the starting / ending hours of the work, the number of usage is peak.\n",
    "\n",
    ">When we analyze according to age data, the use of weekends is made by relatively younger people, which confirms our thesis above. In addition, the age range in which the usage is most intense shows a wide distribution between 25 and 32 for subscribers, while there is a narrower peak between 30-32 for customers.\n",
    "\n",
    "### Did you observe any interesting relationships between the other features (not the main feature(s) of interest)?\n",
    "\n",
    "> The number of usage decreases significantly on the weekends. However, when we look at the average times per use, we see an increase. In fact, we can say that those who prefer to use it on the weekend use it longer. This makes us think that it is mostly used for trips on the weekend."
   ]
  },
  {
   "cell_type": "markdown",
   "metadata": {},
   "source": [
    "## Multivariate Exploration\n",
    "\n"
   ]
  },
  {
   "cell_type": "code",
   "execution_count": 153,
   "metadata": {
    "scrolled": true
   },
   "outputs": [
    {
     "data": {
      "image/png": "[encoded data removed]",
      "text/plain": [
       "<Figure size 576x360 with 1 Axes>"
      ]
     },
     "metadata": {
      "needs_background": "light"
     },
     "output_type": "display_data"
    }
   ],
   "source": [
    "# Daily Average Duration by user type \n",
    "\n",
    "sb.pointplot(data=df_clean, x='riding_day', y='duration_minute', hue='user_type',order=weekday);\n",
    "plt.xlabel('weekdays');\n",
    "plt.ylabel('Average Duration in Minute');"
   ]
  },
  {
   "cell_type": "markdown",
   "metadata": {},
   "source": [
    "The average usage time is increasing for all users over the weekend, but the rate of increase in customers is higher than others. The increase in subscribers is at a minimal level. Customers use the average minimum on Wednesday."
   ]
  },
  {
   "cell_type": "code",
   "execution_count": 148,
   "metadata": {
    "scrolled": true
   },
   "outputs": [
    {
     "data": {
      "image/png": "[encoded data removed]",
      "text/plain": [
       "<Figure size 576x360 with 4 Axes>"
      ]
     },
     "metadata": {
      "needs_background": "light"
     },
     "output_type": "display_data"
    }
   ],
   "source": [
    "# Hourly Usage during Weekdays for Customers and Subscribers\n",
    "\n",
    "#https://seaborn.pydata.org/tutorial/color_palettes.html\n",
    "#https://stackoverflow.com/questions/6541123/improve-subplot-size-spacing-with-many-subplots-in-matplotlib\n",
    "#https://pandas.pydata.org/pandas-docs/stable/reference/api/pandas.DataFrame.reindex.html\n",
    "\n",
    "plt.subplot(1, 2, 1)\n",
    "df_customer = df_clean.query('user_type == \"Customer\"')\n",
    "customer_counts = df_customer.groupby(['riding_day', 'riding_hour']).size()\n",
    "customer_counts = customer_counts.reset_index(name='count')\n",
    "customer_counts = customer_counts.pivot(index='riding_day', columns='riding_hour', values='count')\n",
    "customer_counts = customer_counts.reindex(weekday)\n",
    "sb.heatmap(customer_counts, cmap='viridis');\n",
    "plt.title('Customer', loc='center');\n",
    "plt.xlabel('Hour');\n",
    "plt.ylabel('Day');\n",
    "\n",
    "plt.subplot(1, 2, 2)\n",
    "df_subscriber = df_clean.query('user_type == \"Subscriber\"')\n",
    "subs_counts = df_subscriber.groupby(['riding_day', 'riding_hour']).size()\n",
    "subs_counts = subs_counts.reset_index(name='count')\n",
    "subs_counts = subs_counts.pivot(index='riding_day', columns='riding_hour', values='count')\n",
    "subs_counts = subs_counts.reindex(weekday)\n",
    "sb.heatmap(subs_counts, cmap='viridis');\n",
    "plt.title('Subscriber', loc='center');\n",
    "plt.xlabel('Hour');\n",
    "plt.ylabel('Day');\n",
    "plt.subplots_adjust(right=1.7)"
   ]
  },
  {
   "cell_type": "markdown",
   "metadata": {},
   "source": [
    "Clear visual analysis for popular hours by user type. "
   ]
  },
  {
   "cell_type": "code",
   "execution_count": 166,
   "metadata": {},
   "outputs": [
    {
     "data": {
      "text/plain": [
       "''"
      ]
     },
     "execution_count": 166,
     "metadata": {},
     "output_type": "execute_result"
    },
    {
     "data": {
      "image/png": "[encoded data removed]",
      "text/plain": [
       "<Figure size 1530.38x360 with 2 Axes>"
      ]
     },
     "metadata": {
      "needs_background": "light"
     },
     "output_type": "display_data"
    }
   ],
   "source": [
    "# daily usage - user type and gender\n",
    "\n",
    "graph = sb.catplot(data=df_clean, x='riding_day', col=\"user_type\", hue=\"member_gender\", kind='count', sharey = False, height=5, aspect=2,order=weekday);\n",
    "\n",
    "graph.set_axis_labels(\"Day\", \"Number of Bike Trips\")\n",
    "graph._legend.set_title('Gender')\n",
    "graph.set_titles(\"{col_name}\")\n",
    "\n",
    "graph.fig.suptitle('Daily Usage - User Type and Gender');\n",
    ";"
   ]
  },
  {
   "cell_type": "markdown",
   "metadata": {},
   "source": [
    "Famale & male has very similiar patterns in both group. However, unlike the others, only the customer/female shows the same demand on weekends as on weekdays. In other groups, demand decreases over the weekend."
   ]
  },
  {
   "cell_type": "markdown",
   "metadata": {},
   "source": [
    "### Talk about some of the relationships you observed in this part of the investigation. Were there features that strengthened each other in terms of looking at your feature(s) of interest?\n",
    "\n",
    "> It can be said that there is a density of around 8 and 17 on weekdays for two of the customers and subscribers. However, this is experienced at a higher intensity in subscribers. Customers have a relatively homogeneous distribution. On the weekend, it seems clear that customers prefer the afternoon time zone. But it shows a more homogeneous distribution compared to weekdays.\n",
    "\n",
    "> Customer/female shows the same demand on weekends as on weekdays. In other groups, demand decreases over the weekend.\n",
    "\n",
    "### Were there any interesting or surprising interactions between features?\n",
    "\n",
    "> Despite the decrease in the total number of trips over the weekend, there is a significant increase in avg duration for the customer group on the weekend. The demand of the customer group is increasing over the weekend. This can be considered as an opportunity and can be used to balance the total decline with the right marketing."
   ]
  }
 ],
 "metadata": {
  "kernelspec": {
   "display_name": "Python 3",
   "language": "python",
   "name": "python3"
  },
  "language_info": {
   "codemirror_mode": {
    "name": "ipython",
    "version": 3
   },
   "file_extension": ".py",
   "mimetype": "text/x-python",
   "name": "python",
   "nbconvert_exporter": "python",
   "pygments_lexer": "ipython3",
   "version": "3.8.5"
  }
 },
 "nbformat": 4,
 "nbformat_minor": 2
}
